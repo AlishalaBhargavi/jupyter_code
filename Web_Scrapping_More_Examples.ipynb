{
 "cells": [
  {
   "cell_type": "code",
   "execution_count": null,
   "id": "6e8279ba-7bab-4fe7-aa9d-c5c1ace55ff5",
   "metadata": {},
   "outputs": [],
   "source": [
    "install libraries\n",
    "!pip"
   ]
  },
  {
   "cell_type": "code",
   "execution_count": null,
   "id": "e55b5044-e13b-4467-8ea2-238acb5bfb1d",
   "metadata": {},
   "outputs": [],
   "source": [
    "import requests\n",
    "from bs4 import BeautifulSoup\n",
    "\n",
    "# URL to scrape\n",
    "url = \"http://quotes.toscrape.com/\"\n",
    "\n",
    "# Send a GET request\n",
    "response = requests.get(url)\n",
    "\n",
    "# Check if the request was successful\n",
    "if response.status_code == 200:\n",
    "# Parse the HTML\n",
    "soup = BeautifulSoup(response.text,\n",
    "'html.parser')\n",
    "\n",
    "# Find all quote containers\n",
    "quotes = soup.find_all(\"div\",\n",
    "class _= \"quote\")\n",
    "\n",
    "# Loop through each quote and extract\n",
    "data\n",
    "for i, quote in enumerate(quotes[:5]): #\n",
    "Get first 5 quotes\n",
    "text = quote.find(\"span\",\n",
    "class _= \"text\").text # Quote text\n",
    "author = quote.find(\"small\",\n",
    "=\"author\"\n",
    "class =\"author ).text \n",
    "tags=[tag.text for tag in"
   ]
  },
  {
   "cell_type": "code",
   "execution_count": 1,
   "id": "a2206e91-0ad1-4a97-9e17-6938b56ab6cb",
   "metadata": {},
   "outputs": [
    {
     "name": "stdout",
     "output_type": "stream",
     "text": [
      "Current Weather in Hyderabad: N/A | Go to Home Page  |  Search Website  |  Report Broken Page\n"
     ]
    }
   ],
   "source": [
    "import requests\n",
    "from bs4 import BeautifulSoup\n",
    "city = \"india/hyderabad\"\n",
    "url=f\"https://www.timeanddate.com/weather/%7Bcity%7D/{city}\"\n",
    "response=requests.get(url)\n",
    "soup = BeautifulSoup(response.text, 'html.parser')\n",
    "temp = soup.find(\"div\", class_=\"h2\").text.strip() if soup.find(\"div\", class_=\"h2\") else \"N/A\"\n",
    "desc = soup.find(\"p\").text.strip() if soup.find(\"p\") else \"N/A\"\n",
    "print(f\"Current Weather in Hyderabad: {temp} | {desc}\")"
   ]
  },
  {
   "cell_type": "code",
   "execution_count": null,
   "id": "3d6912d3-0435-464d-a79a-296aa682691f",
   "metadata": {},
   "outputs": [],
   "source": [
    "import requests\n",
    "from bs4 import BeautifulSoup\n",
    "search_url = \"https://www.amazon.in/s?k=iphone&crid=PQVCJSNISAH4&sprefix=iphone%2Caps%2C233&ref=nb_sb_noss_2\"\n",
    "response = requests.get(search_url, headers=headers)\n",
    "soup = BeautufulSoup(response.text, \"html.parser\")\n",
    "product = soup.select_one(\"span.a-size-medium\")\n",
    "price = soup.select_one(\"span.a-price-whole\")\n",
    "if product and price:\n",
    "    print(f\"Product: {product.text.strip()}\")\n",
    "    print(f\"Price: Rs.{price.text.strip()}\")\n",
    "else:\n",
    "    print(\"Could not find product details.\")"
   ]
  },
  {
   "cell_type": "code",
   "execution_count": null,
   "id": "63ef1664-16fa-49ab-9c8a-66a38f5910f0",
   "metadata": {},
   "outputs": [],
   "source": [
    "import requests\n",
    "from bs4 import BeautufulSoup\n",
    "url = \"https://en.wikipedia.org/wiki/List_of_countries_and_dependencies_by_population\"\n",
    "response = requests.get(url,headers=headers)\n",
    "soup = BeautifulSoup(response.text, \"html.parser\")\n",
    "table = soup.find(\"table\",class_=\"wikitable\")\n",
    "for row in table.find_all(\"tr\")[1:6]:\n",
    "    columns = row.find_all(\"td\")\n",
    "    country = columns[1].text.strip()\n",
    "    population = columns[2].text.strip()\n",
    "    print(f\"{country}: {popuation}\")"
   ]
  },
  {
   "cell_type": "code",
   "execution_count": null,
   "id": "53ededd2-a746-4d68-9643-58c3ac1bfc5f",
   "metadata": {},
   "outputs": [],
   "source": [
    "from IPython.display"
   ]
  }
 ],
 "metadata": {
  "kernelspec": {
   "display_name": "Python [conda env:base] *",
   "language": "python",
   "name": "conda-base-py"
  },
  "language_info": {
   "codemirror_mode": {
    "name": "ipython",
    "version": 3
   },
   "file_extension": ".py",
   "mimetype": "text/x-python",
   "name": "python",
   "nbconvert_exporter": "python",
   "pygments_lexer": "ipython3",
   "version": "3.12.7"
  }
 },
 "nbformat": 4,
 "nbformat_minor": 5
}
