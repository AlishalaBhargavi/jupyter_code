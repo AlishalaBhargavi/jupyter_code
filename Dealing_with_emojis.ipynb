{
 "cells": [
  {
   "cell_type": "code",
   "execution_count": 1,
   "id": "c5787bb4-d610-410b-b4b9-02e5dceaceeb",
   "metadata": {},
   "outputs": [
    {
     "name": "stdout",
     "output_type": "stream",
     "text": [
      "Collecting emot\n",
      "  Downloading emot-3.1-py3-none-any.whl.metadata (396 bytes)\n",
      "Downloading emot-3.1-py3-none-any.whl (61 kB)\n",
      "Installing collected packages: emot\n",
      "Successfully installed emot-3.1\n"
     ]
    }
   ],
   "source": [
    "!pip install emot"
   ]
  },
  {
   "cell_type": "code",
   "execution_count": 3,
   "id": "11127920-744d-4199-b11c-15847e7f3f53",
   "metadata": {},
   "outputs": [],
   "source": [
    "text1=\"Whate are you saying 😂.I am the boss 😎, aand why are you so 😏\""
   ]
  },
  {
   "cell_type": "code",
   "execution_count": 5,
   "id": "15e30fb7-85f2-4664-af61-688be965862e",
   "metadata": {},
   "outputs": [],
   "source": [
    "import re\n",
    "from emot.emo_unicode import UNICODE_EMOJI\n",
    "from emot.emo_unicode import EMOTICONS_EMO"
   ]
  },
  {
   "cell_type": "code",
   "execution_count": 11,
   "id": "722ecc77-b232-4a47-963e-a78e4838657b",
   "metadata": {},
   "outputs": [
    {
     "data": {
      "text/plain": [
       "'Whate are you saying face_with_tears_of_joy.I am the boss smiling_face_with_sunglasses, aand why are you so smirking_face'"
      ]
     },
     "execution_count": 11,
     "metadata": {},
     "output_type": "execute_result"
    }
   ],
   "source": [
    "import re\n",
    "from emot.emo_unicode import UNICODE_EMOJI\n",
    "from emot.emo_unicode import EMOTICONS_EMO\n",
    "\n",
    "def converting_emojis(text):\n",
    "    for emot in UNICODE_EMOJI:\n",
    "        text = text.replace(emot, \"_\".join(UNICODE_EMOJI[emot].replace(\",\", \"\").replace(\":\", \"\").split()))\n",
    "    return text\n",
    "\n",
    "converting_emojis(text1)"
   ]
  },
  {
   "cell_type": "code",
   "execution_count": 13,
   "id": "46b3f171-e13d-4eaf-9b86-192621ff0621",
   "metadata": {},
   "outputs": [
    {
     "data": {
      "text/plain": [
       "'Whate are you saying .I am the boss , aand why are you so '"
      ]
     },
     "execution_count": 13,
     "metadata": {},
     "output_type": "execute_result"
    }
   ],
   "source": [
    "def emoji_removal(string):\n",
    "    emoji_unicodes = re.compile(\"[\" \n",
    "        u\"\\U0001F600-\\U0001F64F\" \n",
    "        u\"\\U0001F300-\\U0001F5FF\" \n",
    "        u\"\\U0001F680-\\U0001F6FF\" \n",
    "        u\"\\U0001F1E0-\\U0001F1FF\" \n",
    "        u\"\\U00002500-\\U00002BEF\" \n",
    "        u\"\\U00002702-\\U000027B0\" \n",
    "        u\"\\U000024C2-\\U0001F251\" \n",
    "        u\"\\U0001f926-\\U0001f937\" \n",
    "        u\"\\U00010000-\\U0010ffff\" \n",
    "        u\"\\u2640-\\u2642\" \n",
    "        u\"\\u2600-\\u2B55\" \n",
    "        u\"\\u200d\" \n",
    "        u\"\\u23cf\" \n",
    "        u\"\\u23e9\" \n",
    "        u\"\\u231a\" \n",
    "        u\"\\ufe0f\" \n",
    "        u\"\\u3030\"\n",
    "        \"]+\", flags=re.UNICODE)\n",
    "    return emoji_unicodes.sub(r'', string)\n",
    "\n",
    "emoji_removal(text1)"
   ]
  },
  {
   "cell_type": "code",
   "execution_count": null,
   "id": "5150b260-3d2f-4622-b494-742ea209784f",
   "metadata": {},
   "outputs": [],
   "source": []
  }
 ],
 "metadata": {
  "kernelspec": {
   "display_name": "Python [conda env:base] *",
   "language": "python",
   "name": "conda-base-py"
  },
  "language_info": {
   "codemirror_mode": {
    "name": "ipython",
    "version": 3
   },
   "file_extension": ".py",
   "mimetype": "text/x-python",
   "name": "python",
   "nbconvert_exporter": "python",
   "pygments_lexer": "ipython3",
   "version": "3.12.7"
  }
 },
 "nbformat": 4,
 "nbformat_minor": 5
}
