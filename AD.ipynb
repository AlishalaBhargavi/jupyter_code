{
 "cells": [
  {
   "cell_type": "code",
   "execution_count": 7,
   "id": "11de876d-f8c9-462d-8cba-cb038c0d9b72",
   "metadata": {},
   "outputs": [
    {
     "data": {
      "text/html": [
       "<div>\n",
       "<style scoped>\n",
       "    .dataframe tbody tr th:only-of-type {\n",
       "        vertical-align: middle;\n",
       "    }\n",
       "\n",
       "    .dataframe tbody tr th {\n",
       "        vertical-align: top;\n",
       "    }\n",
       "\n",
       "    .dataframe thead th {\n",
       "        text-align: right;\n",
       "    }\n",
       "</style>\n",
       "<table border=\"1\" class=\"dataframe\">\n",
       "  <thead>\n",
       "    <tr style=\"text-align: right;\">\n",
       "      <th></th>\n",
       "      <th>Review</th>\n",
       "      <th>Rating</th>\n",
       "    </tr>\n",
       "  </thead>\n",
       "  <tbody>\n",
       "    <tr>\n",
       "      <th>0</th>\n",
       "      <td>nice hotel expensive parking got good deal sta...</td>\n",
       "      <td>4</td>\n",
       "    </tr>\n",
       "    <tr>\n",
       "      <th>1</th>\n",
       "      <td>ok nothing special charge diamond member hilto...</td>\n",
       "      <td>2</td>\n",
       "    </tr>\n",
       "    <tr>\n",
       "      <th>2</th>\n",
       "      <td>nice rooms not 4* experience hotel monaco seat...</td>\n",
       "      <td>3</td>\n",
       "    </tr>\n",
       "    <tr>\n",
       "      <th>3</th>\n",
       "      <td>unique, great stay, wonderful time hotel monac...</td>\n",
       "      <td>5</td>\n",
       "    </tr>\n",
       "    <tr>\n",
       "      <th>4</th>\n",
       "      <td>great stay great stay, went seahawk game aweso...</td>\n",
       "      <td>5</td>\n",
       "    </tr>\n",
       "  </tbody>\n",
       "</table>\n",
       "</div>"
      ],
      "text/plain": [
       "                                              Review  Rating\n",
       "0  nice hotel expensive parking got good deal sta...       4\n",
       "1  ok nothing special charge diamond member hilto...       2\n",
       "2  nice rooms not 4* experience hotel monaco seat...       3\n",
       "3  unique, great stay, wonderful time hotel monac...       5\n",
       "4  great stay great stay, went seahawk game aweso...       5"
      ]
     },
     "execution_count": 7,
     "metadata": {},
     "output_type": "execute_result"
    }
   ],
   "source": [
    "import pandas as pd\n",
    "df=pd.read_csv('tripadvisor_hotel_reviews.csv')\n",
    "df.head()"
   ]
  },
  {
   "cell_type": "code",
   "execution_count": 9,
   "id": "b7879c6f-53a3-4d08-8d37-dc7a03877cd8",
   "metadata": {},
   "outputs": [],
   "source": [
    "def ratings(rating):\n",
    "    if rating>3 and rating<=5:\n",
    "        return \"Positive\"\n",
    "    if rating>0 and rating<=3:\n",
    "        return \"Negative\""
   ]
  },
  {
   "cell_type": "code",
   "execution_count": 11,
   "id": "f47c96d7-7a1a-445e-bfb1-b3201a8c4c5d",
   "metadata": {},
   "outputs": [],
   "source": [
    "df['Rating']=df['Rating'].apply(ratings)"
   ]
  },
  {
   "cell_type": "code",
   "execution_count": 13,
   "id": "56b9527a-5be4-4364-9f75-e75426f0864e",
   "metadata": {},
   "outputs": [
    {
     "data": {
      "image/png": "[encoded data removed]",
      "text/plain": [
       "<Figure size 640x480 with 1 Axes>"
      ]
     },
     "metadata": {},
     "output_type": "display_data"
    }
   ],
   "source": [
    "import matplotlib.pyplot as plt\n",
    "plt.pie(df['Rating'].value_counts(),\n",
    "        labels=df['Rating'].unique().tolist(),\n",
    "        autopct='%1.1f%%')\n",
    "plt.show()"
   ]
  },
  {
   "cell_type": "code",
   "execution_count": 15,
   "id": "7ff33498-1a71-4f0b-8f46-7010d208c3a8",
   "metadata": {},
   "outputs": [
    {
     "name": "stdout",
     "output_type": "stream",
     "text": [
      "Length of a sample review: 593\n"
     ]
    }
   ],
   "source": [
    "lenght=len(df['Review'][0])\n",
    "print(f'Length of a sample review: {lenght}')"
   ]
  },
  {
   "cell_type": "code",
   "execution_count": 17,
   "id": "719d0d29-4fef-4ad3-bdfe-7982b0bcc5e1",
   "metadata": {},
   "outputs": [
    {
     "data": {
      "text/html": [
       "<div>\n",
       "<style scoped>\n",
       "    .dataframe tbody tr th:only-of-type {\n",
       "        vertical-align: middle;\n",
       "    }\n",
       "\n",
       "    .dataframe tbody tr th {\n",
       "        vertical-align: top;\n",
       "    }\n",
       "\n",
       "    .dataframe thead th {\n",
       "        text-align: right;\n",
       "    }\n",
       "</style>\n",
       "<table border=\"1\" class=\"dataframe\">\n",
       "  <thead>\n",
       "    <tr style=\"text-align: right;\">\n",
       "      <th></th>\n",
       "      <th>Review</th>\n",
       "      <th>Rating</th>\n",
       "      <th>Length</th>\n",
       "    </tr>\n",
       "  </thead>\n",
       "  <tbody>\n",
       "    <tr>\n",
       "      <th>0</th>\n",
       "      <td>nice hotel expensive parking got good deal sta...</td>\n",
       "      <td>Positive</td>\n",
       "      <td>593</td>\n",
       "    </tr>\n",
       "    <tr>\n",
       "      <th>1</th>\n",
       "      <td>ok nothing special charge diamond member hilto...</td>\n",
       "      <td>Negative</td>\n",
       "      <td>1689</td>\n",
       "    </tr>\n",
       "    <tr>\n",
       "      <th>2</th>\n",
       "      <td>nice rooms not 4* experience hotel monaco seat...</td>\n",
       "      <td>Negative</td>\n",
       "      <td>1427</td>\n",
       "    </tr>\n",
       "    <tr>\n",
       "      <th>3</th>\n",
       "      <td>unique, great stay, wonderful time hotel monac...</td>\n",
       "      <td>Positive</td>\n",
       "      <td>600</td>\n",
       "    </tr>\n",
       "    <tr>\n",
       "      <th>4</th>\n",
       "      <td>great stay great stay, went seahawk game aweso...</td>\n",
       "      <td>Positive</td>\n",
       "      <td>1281</td>\n",
       "    </tr>\n",
       "  </tbody>\n",
       "</table>\n",
       "</div>"
      ],
      "text/plain": [
       "                                              Review    Rating  Length\n",
       "0  nice hotel expensive parking got good deal sta...  Positive     593\n",
       "1  ok nothing special charge diamond member hilto...  Negative    1689\n",
       "2  nice rooms not 4* experience hotel monaco seat...  Negative    1427\n",
       "3  unique, great stay, wonderful time hotel monac...  Positive     600\n",
       "4  great stay great stay, went seahawk game aweso...  Positive    1281"
      ]
     },
     "execution_count": 17,
     "metadata": {},
     "output_type": "execute_result"
    }
   ],
   "source": [
    "df['Length']=df['Review'].str.len()\n",
    "df.head()"
   ]
  },
  {
   "cell_type": "code",
   "execution_count": 19,
   "id": "2f1359a7-43a7-4dd0-8a4c-fbca11ef9428",
   "metadata": {},
   "outputs": [
    {
     "name": "stdout",
     "output_type": "stream",
     "text": [
      "Word count in a sample review: 87\n"
     ]
    }
   ],
   "source": [
    "word_count=df['Review'][0].split()\n",
    "print(f'Word count in a sample review: {len(word_count)}')"
   ]
  },
  {
   "cell_type": "code",
   "execution_count": 21,
   "id": "2197c2ea-0958-4a64-806d-afcffb92c063",
   "metadata": {},
   "outputs": [],
   "source": [
    "def word_count(review):\n",
    "    review_list=review.split()\n",
    "    return len(review_list)"
   ]
  },
  {
   "cell_type": "code",
   "execution_count": 23,
   "id": "1dc77592-02b8-45b8-967f-185b32e12005",
   "metadata": {},
   "outputs": [
    {
     "data": {
      "text/html": [
       "<div>\n",
       "<style scoped>\n",
       "    .dataframe tbody tr th:only-of-type {\n",
       "        vertical-align: middle;\n",
       "    }\n",
       "\n",
       "    .dataframe tbody tr th {\n",
       "        vertical-align: top;\n",
       "    }\n",
       "\n",
       "    .dataframe thead th {\n",
       "        text-align: right;\n",
       "    }\n",
       "</style>\n",
       "<table border=\"1\" class=\"dataframe\">\n",
       "  <thead>\n",
       "    <tr style=\"text-align: right;\">\n",
       "      <th></th>\n",
       "      <th>Review</th>\n",
       "      <th>Rating</th>\n",
       "      <th>Length</th>\n",
       "      <th>Word_count</th>\n",
       "    </tr>\n",
       "  </thead>\n",
       "  <tbody>\n",
       "    <tr>\n",
       "      <th>0</th>\n",
       "      <td>nice hotel expensive parking got good deal sta...</td>\n",
       "      <td>Positive</td>\n",
       "      <td>593</td>\n",
       "      <td>87</td>\n",
       "    </tr>\n",
       "    <tr>\n",
       "      <th>1</th>\n",
       "      <td>ok nothing special charge diamond member hilto...</td>\n",
       "      <td>Negative</td>\n",
       "      <td>1689</td>\n",
       "      <td>250</td>\n",
       "    </tr>\n",
       "    <tr>\n",
       "      <th>2</th>\n",
       "      <td>nice rooms not 4* experience hotel monaco seat...</td>\n",
       "      <td>Negative</td>\n",
       "      <td>1427</td>\n",
       "      <td>217</td>\n",
       "    </tr>\n",
       "    <tr>\n",
       "      <th>3</th>\n",
       "      <td>unique, great stay, wonderful time hotel monac...</td>\n",
       "      <td>Positive</td>\n",
       "      <td>600</td>\n",
       "      <td>89</td>\n",
       "    </tr>\n",
       "    <tr>\n",
       "      <th>4</th>\n",
       "      <td>great stay great stay, went seahawk game aweso...</td>\n",
       "      <td>Positive</td>\n",
       "      <td>1281</td>\n",
       "      <td>191</td>\n",
       "    </tr>\n",
       "  </tbody>\n",
       "</table>\n",
       "</div>"
      ],
      "text/plain": [
       "                                              Review    Rating  Length  \\\n",
       "0  nice hotel expensive parking got good deal sta...  Positive     593   \n",
       "1  ok nothing special charge diamond member hilto...  Negative    1689   \n",
       "2  nice rooms not 4* experience hotel monaco seat...  Negative    1427   \n",
       "3  unique, great stay, wonderful time hotel monac...  Positive     600   \n",
       "4  great stay great stay, went seahawk game aweso...  Positive    1281   \n",
       "\n",
       "   Word_count  \n",
       "0          87  \n",
       "1         250  \n",
       "2         217  \n",
       "3          89  \n",
       "4         191  "
      ]
     },
     "execution_count": 23,
     "metadata": {},
     "output_type": "execute_result"
    }
   ],
   "source": [
    "df['Word_count']=df['Review'].apply(word_count)\n",
    "df.head()"
   ]
  },
  {
   "cell_type": "code",
   "execution_count": 25,
   "id": "3d948279-ddb5-4e93-a216-b5b18ebd3dc0",
   "metadata": {},
   "outputs": [
    {
     "data": {
      "text/html": [
       "<div>\n",
       "<style scoped>\n",
       "    .dataframe tbody tr th:only-of-type {\n",
       "        vertical-align: middle;\n",
       "    }\n",
       "\n",
       "    .dataframe tbody tr th {\n",
       "        vertical-align: top;\n",
       "    }\n",
       "\n",
       "    .dataframe thead th {\n",
       "        text-align: right;\n",
       "    }\n",
       "</style>\n",
       "<table border=\"1\" class=\"dataframe\">\n",
       "  <thead>\n",
       "    <tr style=\"text-align: right;\">\n",
       "      <th></th>\n",
       "      <th>Review</th>\n",
       "      <th>Rating</th>\n",
       "      <th>Length</th>\n",
       "      <th>Word_count</th>\n",
       "      <th>mean_word_length</th>\n",
       "    </tr>\n",
       "  </thead>\n",
       "  <tbody>\n",
       "    <tr>\n",
       "      <th>0</th>\n",
       "      <td>nice hotel expensive parking got good deal sta...</td>\n",
       "      <td>Positive</td>\n",
       "      <td>593</td>\n",
       "      <td>87</td>\n",
       "      <td>5.804598</td>\n",
       "    </tr>\n",
       "    <tr>\n",
       "      <th>1</th>\n",
       "      <td>ok nothing special charge diamond member hilto...</td>\n",
       "      <td>Negative</td>\n",
       "      <td>1689</td>\n",
       "      <td>250</td>\n",
       "      <td>5.752000</td>\n",
       "    </tr>\n",
       "    <tr>\n",
       "      <th>2</th>\n",
       "      <td>nice rooms not 4* experience hotel monaco seat...</td>\n",
       "      <td>Negative</td>\n",
       "      <td>1427</td>\n",
       "      <td>217</td>\n",
       "      <td>5.571429</td>\n",
       "    </tr>\n",
       "    <tr>\n",
       "      <th>3</th>\n",
       "      <td>unique, great stay, wonderful time hotel monac...</td>\n",
       "      <td>Positive</td>\n",
       "      <td>600</td>\n",
       "      <td>89</td>\n",
       "      <td>5.730337</td>\n",
       "    </tr>\n",
       "    <tr>\n",
       "      <th>4</th>\n",
       "      <td>great stay great stay, went seahawk game aweso...</td>\n",
       "      <td>Positive</td>\n",
       "      <td>1281</td>\n",
       "      <td>191</td>\n",
       "      <td>5.701571</td>\n",
       "    </tr>\n",
       "  </tbody>\n",
       "</table>\n",
       "</div>"
      ],
      "text/plain": [
       "                                              Review    Rating  Length  \\\n",
       "0  nice hotel expensive parking got good deal sta...  Positive     593   \n",
       "1  ok nothing special charge diamond member hilto...  Negative    1689   \n",
       "2  nice rooms not 4* experience hotel monaco seat...  Negative    1427   \n",
       "3  unique, great stay, wonderful time hotel monac...  Positive     600   \n",
       "4  great stay great stay, went seahawk game aweso...  Positive    1281   \n",
       "\n",
       "   Word_count  mean_word_length  \n",
       "0          87          5.804598  \n",
       "1         250          5.752000  \n",
       "2         217          5.571429  \n",
       "3          89          5.730337  \n",
       "4         191          5.701571  "
      ]
     },
     "execution_count": 25,
     "metadata": {},
     "output_type": "execute_result"
    }
   ],
   "source": [
    "import numpy as np\n",
    "df['mean_word_length']=df['Review'].map(lambda rev: np.mean([len(word)\n",
    "                                                             for word in rev.split()]))\n",
    "df.head()"
   ]
  },
  {
   "cell_type": "code",
   "execution_count": null,
   "id": "52489bd9-8198-4e5b-b8b1-ccc546b0bd52",
   "metadata": {},
   "outputs": [],
   "source": [
    "import nltk\n",
    "nltk.download("
   ]
  },
  {
   "cell_type": "code",
   "execution_count": null,
   "id": "bc333f5f-6d08-43cc-a283-be0111c9f9b8",
   "metadata": {},
   "outputs": [],
   "source": []
  },
  {
   "cell_type": "code",
   "execution_count": 29,
   "id": "422fb838-1786-4d61-b842-e62fb31ef39d",
   "metadata": {},
   "outputs": [
    {
     "data": {
      "text/html": [
       "<div>\n",
       "<style scoped>\n",
       "    .dataframe tbody tr th:only-of-type {\n",
       "        vertical-align: middle;\n",
       "    }\n",
       "\n",
       "    .dataframe tbody tr th {\n",
       "        vertical-align: top;\n",
       "    }\n",
       "\n",
       "    .dataframe thead th {\n",
       "        text-align: right;\n",
       "    }\n",
       "</style>\n",
       "<table border=\"1\" class=\"dataframe\">\n",
       "  <thead>\n",
       "    <tr style=\"text-align: right;\">\n",
       "      <th></th>\n",
       "      <th>Review</th>\n",
       "      <th>Rating</th>\n",
       "    </tr>\n",
       "  </thead>\n",
       "  <tbody>\n",
       "    <tr>\n",
       "      <th>0</th>\n",
       "      <td>nice hotel expensive parking got good deal sta...</td>\n",
       "      <td>Positive</td>\n",
       "    </tr>\n",
       "    <tr>\n",
       "      <th>1</th>\n",
       "      <td>ok nothing special charge diamond member hilto...</td>\n",
       "      <td>Negative</td>\n",
       "    </tr>\n",
       "    <tr>\n",
       "      <th>2</th>\n",
       "      <td>nice rooms not 4* experience hotel monaco seat...</td>\n",
       "      <td>Negative</td>\n",
       "    </tr>\n",
       "    <tr>\n",
       "      <th>3</th>\n",
       "      <td>unique, great stay, wonderful time hotel monac...</td>\n",
       "      <td>Positive</td>\n",
       "    </tr>\n",
       "    <tr>\n",
       "      <th>4</th>\n",
       "      <td>great stay great stay, went seahawk game aweso...</td>\n",
       "      <td>Positive</td>\n",
       "    </tr>\n",
       "  </tbody>\n",
       "</table>\n",
       "</div>"
      ],
      "text/plain": [
       "                                              Review    Rating\n",
       "0  nice hotel expensive parking got good deal sta...  Positive\n",
       "1  ok nothing special charge diamond member hilto...  Negative\n",
       "2  nice rooms not 4* experience hotel monaco seat...  Negative\n",
       "3  unique, great stay, wonderful time hotel monac...  Positive\n",
       "4  great stay great stay, went seahawk game aweso...  Positive"
      ]
     },
     "execution_count": 29,
     "metadata": {},
     "output_type": "execute_result"
    }
   ],
   "source": [
    "features=df.columns.tolist()[2:]\n",
    "df=df.drop(features,axis=1)\n",
    "df.head()\n"
   ]
  },
  {
   "cell_type": "code",
   "execution_count": 31,
   "id": "97663458-533f-4fef-b751-e006acab01e2",
   "metadata": {},
   "outputs": [
    {
     "name": "stdout",
     "output_type": "stream",
     "text": [
      "<class 'pandas.core.frame.DataFrame'>\n",
      "RangeIndex: 20491 entries, 0 to 20490\n",
      "Data columns (total 2 columns):\n",
      " #   Column  Non-Null Count  Dtype \n",
      "---  ------  --------------  ----- \n",
      " 0   Review  20491 non-null  object\n",
      " 1   Rating  20491 non-null  object\n",
      "dtypes: object(2)\n",
      "memory usage: 320.3+ KB\n"
     ]
    }
   ],
   "source": [
    "df.info()"
   ]
  },
  {
   "cell_type": "code",
   "execution_count": 43,
   "id": "782534e3-1817-4871-86e1-a35bd22ca1a9",
   "metadata": {},
   "outputs": [],
   "source": [
    "import re\n",
    "from nltk.corpus import stopwords\n",
    "def clean(review):\n",
    "    review=review.lower()\n",
    "    review=re.sub('[^a-z A-Z 0-9-]+', '',review)\n",
    "    review=\" \".join([word for word in review.split() if word not in stopwords.words('english')]) \n",
    "    return review"
   ]
  },
  {
   "cell_type": "code",
   "execution_count": 45,
   "id": "ebabd466-dde0-41c6-b2fa-27ff64c2a949",
   "metadata": {},
   "outputs": [
    {
     "ename": "LookupError",
     "evalue": "\n**********************************************************************\n  Resource \u001b[93mstopwords\u001b[0m not found.\n  Please use the NLTK Downloader to obtain the resource:\n\n  \u001b[31m>>> import nltk\n  >>> nltk.download('stopwords')\n  \u001b[0m\n  For more information see: https://www.nltk.org/data.html\n\n  Attempted to load \u001b[93mcorpora/stopwords\u001b[0m\n\n  Searched in:\n    - 'C:\\\\Users\\\\bhargavi/nltk_data'\n    - 'C:\\\\Users\\\\bhargavi\\\\anaconda3\\\\nltk_data'\n    - 'C:\\\\Users\\\\bhargavi\\\\anaconda3\\\\share\\\\nltk_data'\n    - 'C:\\\\Users\\\\bhargavi\\\\anaconda3\\\\lib\\\\nltk_data'\n    - 'C:\\\\Users\\\\bhargavi\\\\AppData\\\\Roaming\\\\nltk_data'\n    - 'C:\\\\nltk_data'\n    - 'D:\\\\nltk_data'\n    - 'E:\\\\nltk_data'\n**********************************************************************\n",
     "output_type": "error",
     "traceback": [
      "\u001b[1;31m---------------------------------------------------------------------------\u001b[0m",
      "\u001b[1;31mLookupError\u001b[0m                               Traceback (most recent call last)",
      "File \u001b[1;32m~\\anaconda3\\Lib\\site-packages\\nltk\\corpus\\util.py:84\u001b[0m, in \u001b[0;36mLazyCorpusLoader.__load\u001b[1;34m(self)\u001b[0m\n\u001b[0;32m     83\u001b[0m \u001b[38;5;28;01mtry\u001b[39;00m:\n\u001b[1;32m---> 84\u001b[0m     root \u001b[38;5;241m=\u001b[39m nltk\u001b[38;5;241m.\u001b[39mdata\u001b[38;5;241m.\u001b[39mfind(\u001b[38;5;124mf\u001b[39m\u001b[38;5;124m\"\u001b[39m\u001b[38;5;132;01m{\u001b[39;00m\u001b[38;5;28mself\u001b[39m\u001b[38;5;241m.\u001b[39msubdir\u001b[38;5;132;01m}\u001b[39;00m\u001b[38;5;124m/\u001b[39m\u001b[38;5;132;01m{\u001b[39;00mzip_name\u001b[38;5;132;01m}\u001b[39;00m\u001b[38;5;124m\"\u001b[39m)\n\u001b[0;32m     85\u001b[0m \u001b[38;5;28;01mexcept\u001b[39;00m \u001b[38;5;167;01mLookupError\u001b[39;00m:\n",
      "File \u001b[1;32m~\\anaconda3\\Lib\\site-packages\\nltk\\data.py:579\u001b[0m, in \u001b[0;36mfind\u001b[1;34m(resource_name, paths)\u001b[0m\n\u001b[0;32m    578\u001b[0m resource_not_found \u001b[38;5;241m=\u001b[39m \u001b[38;5;124mf\u001b[39m\u001b[38;5;124m\"\u001b[39m\u001b[38;5;130;01m\\n\u001b[39;00m\u001b[38;5;132;01m{\u001b[39;00msep\u001b[38;5;132;01m}\u001b[39;00m\u001b[38;5;130;01m\\n\u001b[39;00m\u001b[38;5;132;01m{\u001b[39;00mmsg\u001b[38;5;132;01m}\u001b[39;00m\u001b[38;5;130;01m\\n\u001b[39;00m\u001b[38;5;132;01m{\u001b[39;00msep\u001b[38;5;132;01m}\u001b[39;00m\u001b[38;5;130;01m\\n\u001b[39;00m\u001b[38;5;124m\"\u001b[39m\n\u001b[1;32m--> 579\u001b[0m \u001b[38;5;28;01mraise\u001b[39;00m \u001b[38;5;167;01mLookupError\u001b[39;00m(resource_not_found)\n",
      "\u001b[1;31mLookupError\u001b[0m: \n**********************************************************************\n  Resource \u001b[93mstopwords\u001b[0m not found.\n  Please use the NLTK Downloader to obtain the resource:\n\n  \u001b[31m>>> import nltk\n  >>> nltk.download('stopwords')\n  \u001b[0m\n  For more information see: https://www.nltk.org/data.html\n\n  Attempted to load \u001b[93mcorpora/stopwords.zip/stopwords/\u001b[0m\n\n  Searched in:\n    - 'C:\\\\Users\\\\bhargavi/nltk_data'\n    - 'C:\\\\Users\\\\bhargavi\\\\anaconda3\\\\nltk_data'\n    - 'C:\\\\Users\\\\bhargavi\\\\anaconda3\\\\share\\\\nltk_data'\n    - 'C:\\\\Users\\\\bhargavi\\\\anaconda3\\\\lib\\\\nltk_data'\n    - 'C:\\\\Users\\\\bhargavi\\\\AppData\\\\Roaming\\\\nltk_data'\n    - 'C:\\\\nltk_data'\n    - 'D:\\\\nltk_data'\n    - 'E:\\\\nltk_data'\n**********************************************************************\n",
      "\nDuring handling of the above exception, another exception occurred:\n",
      "\u001b[1;31mLookupError\u001b[0m                               Traceback (most recent call last)",
      "Cell \u001b[1;32mIn[45], line 1\u001b[0m\n\u001b[1;32m----> 1\u001b[0m df[\u001b[38;5;124m'\u001b[39m\u001b[38;5;124mReview\u001b[39m\u001b[38;5;124m'\u001b[39m]\u001b[38;5;241m=\u001b[39mdf[\u001b[38;5;124m'\u001b[39m\u001b[38;5;124mReview\u001b[39m\u001b[38;5;124m'\u001b[39m]\u001b[38;5;241m.\u001b[39mapply(clean)\n\u001b[0;32m      2\u001b[0m df\u001b[38;5;241m.\u001b[39mhead()\n",
      "File \u001b[1;32m~\\anaconda3\\Lib\\site-packages\\pandas\\core\\series.py:4924\u001b[0m, in \u001b[0;36mSeries.apply\u001b[1;34m(self, func, convert_dtype, args, by_row, **kwargs)\u001b[0m\n\u001b[0;32m   4789\u001b[0m \u001b[38;5;28;01mdef\u001b[39;00m \u001b[38;5;21mapply\u001b[39m(\n\u001b[0;32m   4790\u001b[0m     \u001b[38;5;28mself\u001b[39m,\n\u001b[0;32m   4791\u001b[0m     func: AggFuncType,\n\u001b[1;32m   (...)\u001b[0m\n\u001b[0;32m   4796\u001b[0m     \u001b[38;5;241m*\u001b[39m\u001b[38;5;241m*\u001b[39mkwargs,\n\u001b[0;32m   4797\u001b[0m ) \u001b[38;5;241m-\u001b[39m\u001b[38;5;241m>\u001b[39m DataFrame \u001b[38;5;241m|\u001b[39m Series:\n\u001b[0;32m   4798\u001b[0m \u001b[38;5;250m    \u001b[39m\u001b[38;5;124;03m\"\"\"\u001b[39;00m\n\u001b[0;32m   4799\u001b[0m \u001b[38;5;124;03m    Invoke function on values of Series.\u001b[39;00m\n\u001b[0;32m   4800\u001b[0m \n\u001b[1;32m   (...)\u001b[0m\n\u001b[0;32m   4915\u001b[0m \u001b[38;5;124;03m    dtype: float64\u001b[39;00m\n\u001b[0;32m   4916\u001b[0m \u001b[38;5;124;03m    \"\"\"\u001b[39;00m\n\u001b[0;32m   4917\u001b[0m     \u001b[38;5;28;01mreturn\u001b[39;00m SeriesApply(\n\u001b[0;32m   4918\u001b[0m         \u001b[38;5;28mself\u001b[39m,\n\u001b[0;32m   4919\u001b[0m         func,\n\u001b[0;32m   4920\u001b[0m         convert_dtype\u001b[38;5;241m=\u001b[39mconvert_dtype,\n\u001b[0;32m   4921\u001b[0m         by_row\u001b[38;5;241m=\u001b[39mby_row,\n\u001b[0;32m   4922\u001b[0m         args\u001b[38;5;241m=\u001b[39margs,\n\u001b[0;32m   4923\u001b[0m         kwargs\u001b[38;5;241m=\u001b[39mkwargs,\n\u001b[1;32m-> 4924\u001b[0m     )\u001b[38;5;241m.\u001b[39mapply()\n",
      "File \u001b[1;32m~\\anaconda3\\Lib\\site-packages\\pandas\\core\\apply.py:1427\u001b[0m, in \u001b[0;36mSeriesApply.apply\u001b[1;34m(self)\u001b[0m\n\u001b[0;32m   1424\u001b[0m     \u001b[38;5;28;01mreturn\u001b[39;00m \u001b[38;5;28mself\u001b[39m\u001b[38;5;241m.\u001b[39mapply_compat()\n\u001b[0;32m   1426\u001b[0m \u001b[38;5;66;03m# self.func is Callable\u001b[39;00m\n\u001b[1;32m-> 1427\u001b[0m \u001b[38;5;28;01mreturn\u001b[39;00m \u001b[38;5;28mself\u001b[39m\u001b[38;5;241m.\u001b[39mapply_standard()\n",
      "File \u001b[1;32m~\\anaconda3\\Lib\\site-packages\\pandas\\core\\apply.py:1507\u001b[0m, in \u001b[0;36mSeriesApply.apply_standard\u001b[1;34m(self)\u001b[0m\n\u001b[0;32m   1501\u001b[0m \u001b[38;5;66;03m# row-wise access\u001b[39;00m\n\u001b[0;32m   1502\u001b[0m \u001b[38;5;66;03m# apply doesn't have a `na_action` keyword and for backward compat reasons\u001b[39;00m\n\u001b[0;32m   1503\u001b[0m \u001b[38;5;66;03m# we need to give `na_action=\"ignore\"` for categorical data.\u001b[39;00m\n\u001b[0;32m   1504\u001b[0m \u001b[38;5;66;03m# TODO: remove the `na_action=\"ignore\"` when that default has been changed in\u001b[39;00m\n\u001b[0;32m   1505\u001b[0m \u001b[38;5;66;03m#  Categorical (GH51645).\u001b[39;00m\n\u001b[0;32m   1506\u001b[0m action \u001b[38;5;241m=\u001b[39m \u001b[38;5;124m\"\u001b[39m\u001b[38;5;124mignore\u001b[39m\u001b[38;5;124m\"\u001b[39m \u001b[38;5;28;01mif\u001b[39;00m \u001b[38;5;28misinstance\u001b[39m(obj\u001b[38;5;241m.\u001b[39mdtype, CategoricalDtype) \u001b[38;5;28;01melse\u001b[39;00m \u001b[38;5;28;01mNone\u001b[39;00m\n\u001b[1;32m-> 1507\u001b[0m mapped \u001b[38;5;241m=\u001b[39m obj\u001b[38;5;241m.\u001b[39m_map_values(\n\u001b[0;32m   1508\u001b[0m     mapper\u001b[38;5;241m=\u001b[39mcurried, na_action\u001b[38;5;241m=\u001b[39maction, convert\u001b[38;5;241m=\u001b[39m\u001b[38;5;28mself\u001b[39m\u001b[38;5;241m.\u001b[39mconvert_dtype\n\u001b[0;32m   1509\u001b[0m )\n\u001b[0;32m   1511\u001b[0m \u001b[38;5;28;01mif\u001b[39;00m \u001b[38;5;28mlen\u001b[39m(mapped) \u001b[38;5;129;01mand\u001b[39;00m \u001b[38;5;28misinstance\u001b[39m(mapped[\u001b[38;5;241m0\u001b[39m], ABCSeries):\n\u001b[0;32m   1512\u001b[0m     \u001b[38;5;66;03m# GH#43986 Need to do list(mapped) in order to get treated as nested\u001b[39;00m\n\u001b[0;32m   1513\u001b[0m     \u001b[38;5;66;03m#  See also GH#25959 regarding EA support\u001b[39;00m\n\u001b[0;32m   1514\u001b[0m     \u001b[38;5;28;01mreturn\u001b[39;00m obj\u001b[38;5;241m.\u001b[39m_constructor_expanddim(\u001b[38;5;28mlist\u001b[39m(mapped), index\u001b[38;5;241m=\u001b[39mobj\u001b[38;5;241m.\u001b[39mindex)\n",
      "File \u001b[1;32m~\\anaconda3\\Lib\\site-packages\\pandas\\core\\base.py:921\u001b[0m, in \u001b[0;36mIndexOpsMixin._map_values\u001b[1;34m(self, mapper, na_action, convert)\u001b[0m\n\u001b[0;32m    918\u001b[0m \u001b[38;5;28;01mif\u001b[39;00m \u001b[38;5;28misinstance\u001b[39m(arr, ExtensionArray):\n\u001b[0;32m    919\u001b[0m     \u001b[38;5;28;01mreturn\u001b[39;00m arr\u001b[38;5;241m.\u001b[39mmap(mapper, na_action\u001b[38;5;241m=\u001b[39mna_action)\n\u001b[1;32m--> 921\u001b[0m \u001b[38;5;28;01mreturn\u001b[39;00m algorithms\u001b[38;5;241m.\u001b[39mmap_array(arr, mapper, na_action\u001b[38;5;241m=\u001b[39mna_action, convert\u001b[38;5;241m=\u001b[39mconvert)\n",
      "File \u001b[1;32m~\\anaconda3\\Lib\\site-packages\\pandas\\core\\algorithms.py:1743\u001b[0m, in \u001b[0;36mmap_array\u001b[1;34m(arr, mapper, na_action, convert)\u001b[0m\n\u001b[0;32m   1741\u001b[0m values \u001b[38;5;241m=\u001b[39m arr\u001b[38;5;241m.\u001b[39mastype(\u001b[38;5;28mobject\u001b[39m, copy\u001b[38;5;241m=\u001b[39m\u001b[38;5;28;01mFalse\u001b[39;00m)\n\u001b[0;32m   1742\u001b[0m \u001b[38;5;28;01mif\u001b[39;00m na_action \u001b[38;5;129;01mis\u001b[39;00m \u001b[38;5;28;01mNone\u001b[39;00m:\n\u001b[1;32m-> 1743\u001b[0m     \u001b[38;5;28;01mreturn\u001b[39;00m lib\u001b[38;5;241m.\u001b[39mmap_infer(values, mapper, convert\u001b[38;5;241m=\u001b[39mconvert)\n\u001b[0;32m   1744\u001b[0m \u001b[38;5;28;01melse\u001b[39;00m:\n\u001b[0;32m   1745\u001b[0m     \u001b[38;5;28;01mreturn\u001b[39;00m lib\u001b[38;5;241m.\u001b[39mmap_infer_mask(\n\u001b[0;32m   1746\u001b[0m         values, mapper, mask\u001b[38;5;241m=\u001b[39misna(values)\u001b[38;5;241m.\u001b[39mview(np\u001b[38;5;241m.\u001b[39muint8), convert\u001b[38;5;241m=\u001b[39mconvert\n\u001b[0;32m   1747\u001b[0m     )\n",
      "File \u001b[1;32mlib.pyx:2972\u001b[0m, in \u001b[0;36mpandas._libs.lib.map_infer\u001b[1;34m()\u001b[0m\n",
      "Cell \u001b[1;32mIn[43], line 6\u001b[0m, in \u001b[0;36mclean\u001b[1;34m(review)\u001b[0m\n\u001b[0;32m      4\u001b[0m review\u001b[38;5;241m=\u001b[39mreview\u001b[38;5;241m.\u001b[39mlower()\n\u001b[0;32m      5\u001b[0m review\u001b[38;5;241m=\u001b[39mre\u001b[38;5;241m.\u001b[39msub(\u001b[38;5;124m'\u001b[39m\u001b[38;5;124m[^a-z A-Z 0-9-]+\u001b[39m\u001b[38;5;124m'\u001b[39m, \u001b[38;5;124m'\u001b[39m\u001b[38;5;124m'\u001b[39m,review)\n\u001b[1;32m----> 6\u001b[0m review\u001b[38;5;241m=\u001b[39m\u001b[38;5;124m\"\u001b[39m\u001b[38;5;124m \u001b[39m\u001b[38;5;124m\"\u001b[39m\u001b[38;5;241m.\u001b[39mjoin([word \u001b[38;5;28;01mfor\u001b[39;00m word \u001b[38;5;129;01min\u001b[39;00m review\u001b[38;5;241m.\u001b[39msplit() \u001b[38;5;28;01mif\u001b[39;00m word \u001b[38;5;129;01mnot\u001b[39;00m \u001b[38;5;129;01min\u001b[39;00m stopwords\u001b[38;5;241m.\u001b[39mwords(\u001b[38;5;124m'\u001b[39m\u001b[38;5;124menglish\u001b[39m\u001b[38;5;124m'\u001b[39m)]) \n\u001b[0;32m      7\u001b[0m \u001b[38;5;28;01mreturn\u001b[39;00m review\n",
      "File \u001b[1;32m~\\anaconda3\\Lib\\site-packages\\nltk\\corpus\\util.py:120\u001b[0m, in \u001b[0;36mLazyCorpusLoader.__getattr__\u001b[1;34m(self, attr)\u001b[0m\n\u001b[0;32m    117\u001b[0m \u001b[38;5;28;01mif\u001b[39;00m attr \u001b[38;5;241m==\u001b[39m \u001b[38;5;124m\"\u001b[39m\u001b[38;5;124m__bases__\u001b[39m\u001b[38;5;124m\"\u001b[39m:\n\u001b[0;32m    118\u001b[0m     \u001b[38;5;28;01mraise\u001b[39;00m \u001b[38;5;167;01mAttributeError\u001b[39;00m(\u001b[38;5;124m\"\u001b[39m\u001b[38;5;124mLazyCorpusLoader object has no attribute \u001b[39m\u001b[38;5;124m'\u001b[39m\u001b[38;5;124m__bases__\u001b[39m\u001b[38;5;124m'\u001b[39m\u001b[38;5;124m\"\u001b[39m)\n\u001b[1;32m--> 120\u001b[0m \u001b[38;5;28mself\u001b[39m\u001b[38;5;241m.\u001b[39m__load()\n\u001b[0;32m    121\u001b[0m \u001b[38;5;66;03m# This looks circular, but its not, since __load() changes our\u001b[39;00m\n\u001b[0;32m    122\u001b[0m \u001b[38;5;66;03m# __class__ to something new:\u001b[39;00m\n\u001b[0;32m    123\u001b[0m \u001b[38;5;28;01mreturn\u001b[39;00m \u001b[38;5;28mgetattr\u001b[39m(\u001b[38;5;28mself\u001b[39m, attr)\n",
      "File \u001b[1;32m~\\anaconda3\\Lib\\site-packages\\nltk\\corpus\\util.py:86\u001b[0m, in \u001b[0;36mLazyCorpusLoader.__load\u001b[1;34m(self)\u001b[0m\n\u001b[0;32m     84\u001b[0m             root \u001b[38;5;241m=\u001b[39m nltk\u001b[38;5;241m.\u001b[39mdata\u001b[38;5;241m.\u001b[39mfind(\u001b[38;5;124mf\u001b[39m\u001b[38;5;124m\"\u001b[39m\u001b[38;5;132;01m{\u001b[39;00m\u001b[38;5;28mself\u001b[39m\u001b[38;5;241m.\u001b[39msubdir\u001b[38;5;132;01m}\u001b[39;00m\u001b[38;5;124m/\u001b[39m\u001b[38;5;132;01m{\u001b[39;00mzip_name\u001b[38;5;132;01m}\u001b[39;00m\u001b[38;5;124m\"\u001b[39m)\n\u001b[0;32m     85\u001b[0m         \u001b[38;5;28;01mexcept\u001b[39;00m \u001b[38;5;167;01mLookupError\u001b[39;00m:\n\u001b[1;32m---> 86\u001b[0m             \u001b[38;5;28;01mraise\u001b[39;00m e\n\u001b[0;32m     88\u001b[0m \u001b[38;5;66;03m# Load the corpus.\u001b[39;00m\n\u001b[0;32m     89\u001b[0m corpus \u001b[38;5;241m=\u001b[39m \u001b[38;5;28mself\u001b[39m\u001b[38;5;241m.\u001b[39m__reader_cls(root, \u001b[38;5;241m*\u001b[39m\u001b[38;5;28mself\u001b[39m\u001b[38;5;241m.\u001b[39m__args, \u001b[38;5;241m*\u001b[39m\u001b[38;5;241m*\u001b[39m\u001b[38;5;28mself\u001b[39m\u001b[38;5;241m.\u001b[39m__kwargs)\n",
      "File \u001b[1;32m~\\anaconda3\\Lib\\site-packages\\nltk\\corpus\\util.py:81\u001b[0m, in \u001b[0;36mLazyCorpusLoader.__load\u001b[1;34m(self)\u001b[0m\n\u001b[0;32m     79\u001b[0m \u001b[38;5;28;01melse\u001b[39;00m:\n\u001b[0;32m     80\u001b[0m     \u001b[38;5;28;01mtry\u001b[39;00m:\n\u001b[1;32m---> 81\u001b[0m         root \u001b[38;5;241m=\u001b[39m nltk\u001b[38;5;241m.\u001b[39mdata\u001b[38;5;241m.\u001b[39mfind(\u001b[38;5;124mf\u001b[39m\u001b[38;5;124m\"\u001b[39m\u001b[38;5;132;01m{\u001b[39;00m\u001b[38;5;28mself\u001b[39m\u001b[38;5;241m.\u001b[39msubdir\u001b[38;5;132;01m}\u001b[39;00m\u001b[38;5;124m/\u001b[39m\u001b[38;5;132;01m{\u001b[39;00m\u001b[38;5;28mself\u001b[39m\u001b[38;5;241m.\u001b[39m__name\u001b[38;5;132;01m}\u001b[39;00m\u001b[38;5;124m\"\u001b[39m)\n\u001b[0;32m     82\u001b[0m     \u001b[38;5;28;01mexcept\u001b[39;00m \u001b[38;5;167;01mLookupError\u001b[39;00m \u001b[38;5;28;01mas\u001b[39;00m e:\n\u001b[0;32m     83\u001b[0m         \u001b[38;5;28;01mtry\u001b[39;00m:\n",
      "File \u001b[1;32m~\\anaconda3\\Lib\\site-packages\\nltk\\data.py:579\u001b[0m, in \u001b[0;36mfind\u001b[1;34m(resource_name, paths)\u001b[0m\n\u001b[0;32m    577\u001b[0m sep \u001b[38;5;241m=\u001b[39m \u001b[38;5;124m\"\u001b[39m\u001b[38;5;124m*\u001b[39m\u001b[38;5;124m\"\u001b[39m \u001b[38;5;241m*\u001b[39m \u001b[38;5;241m70\u001b[39m\n\u001b[0;32m    578\u001b[0m resource_not_found \u001b[38;5;241m=\u001b[39m \u001b[38;5;124mf\u001b[39m\u001b[38;5;124m\"\u001b[39m\u001b[38;5;130;01m\\n\u001b[39;00m\u001b[38;5;132;01m{\u001b[39;00msep\u001b[38;5;132;01m}\u001b[39;00m\u001b[38;5;130;01m\\n\u001b[39;00m\u001b[38;5;132;01m{\u001b[39;00mmsg\u001b[38;5;132;01m}\u001b[39;00m\u001b[38;5;130;01m\\n\u001b[39;00m\u001b[38;5;132;01m{\u001b[39;00msep\u001b[38;5;132;01m}\u001b[39;00m\u001b[38;5;130;01m\\n\u001b[39;00m\u001b[38;5;124m\"\u001b[39m\n\u001b[1;32m--> 579\u001b[0m \u001b[38;5;28;01mraise\u001b[39;00m \u001b[38;5;167;01mLookupError\u001b[39;00m(resource_not_found)\n",
      "\u001b[1;31mLookupError\u001b[0m: \n**********************************************************************\n  Resource \u001b[93mstopwords\u001b[0m not found.\n  Please use the NLTK Downloader to obtain the resource:\n\n  \u001b[31m>>> import nltk\n  >>> nltk.download('stopwords')\n  \u001b[0m\n  For more information see: https://www.nltk.org/data.html\n\n  Attempted to load \u001b[93mcorpora/stopwords\u001b[0m\n\n  Searched in:\n    - 'C:\\\\Users\\\\bhargavi/nltk_data'\n    - 'C:\\\\Users\\\\bhargavi\\\\anaconda3\\\\nltk_data'\n    - 'C:\\\\Users\\\\bhargavi\\\\anaconda3\\\\share\\\\nltk_data'\n    - 'C:\\\\Users\\\\bhargavi\\\\anaconda3\\\\lib\\\\nltk_data'\n    - 'C:\\\\Users\\\\bhargavi\\\\AppData\\\\Roaming\\\\nltk_data'\n    - 'C:\\\\nltk_data'\n    - 'D:\\\\nltk_data'\n    - 'E:\\\\nltk_data'\n**********************************************************************\n"
     ]
    }
   ],
   "source": [
    "df['Review']=df['Review'].apply(clean)\n",
    "df.head()"
   ]
  },
  {
   "cell_type": "code",
   "execution_count": 51,
   "id": "5db9a895-96ab-417f-b453-b2de738d001b",
   "metadata": {},
   "outputs": [
    {
     "data": {
      "text/plain": [
       "'nice hotel expensive parking got good deal stay hotel anniversary, arrived late evening took advice previous reviews did valet parking, check quick easy, little disappointed non-existent view room room clean nice size, bed comfortable woke stiff neck high pillows, not soundproof like heard music room night morning loud bangs doors opening closing hear people talking hallway, maybe just noisy neighbors, aveda bath products nice, did not goldfish stay nice touch taken advantage staying longer, location great walking distance shopping, overall nice experience having pay 40 parking night,  '"
      ]
     },
     "execution_count": 51,
     "metadata": {},
     "output_type": "execute_result"
    }
   ],
   "source": [
    "df['Review'][0]"
   ]
  },
  {
   "cell_type": "code",
   "execution_count": 47,
   "id": "45bad20f-3e07-48bf-9fa7-8eb75ceaf71a",
   "metadata": {},
   "outputs": [],
   "source": [
    "def corpus(text):\n",
    "    text_list=text.split()\n",
    "    return text_list"
   ]
  },
  {
   "cell_type": "code",
   "execution_count": 49,
   "id": "24f2116e-6626-442a-9ed8-30590f1c73f9",
   "metadata": {},
   "outputs": [
    {
     "data": {
      "text/html": [
       "<div>\n",
       "<style scoped>\n",
       "    .dataframe tbody tr th:only-of-type {\n",
       "        vertical-align: middle;\n",
       "    }\n",
       "\n",
       "    .dataframe tbody tr th {\n",
       "        vertical-align: top;\n",
       "    }\n",
       "\n",
       "    .dataframe thead th {\n",
       "        text-align: right;\n",
       "    }\n",
       "</style>\n",
       "<table border=\"1\" class=\"dataframe\">\n",
       "  <thead>\n",
       "    <tr style=\"text-align: right;\">\n",
       "      <th></th>\n",
       "      <th>Review</th>\n",
       "      <th>Rating</th>\n",
       "      <th>Review_lists</th>\n",
       "    </tr>\n",
       "  </thead>\n",
       "  <tbody>\n",
       "    <tr>\n",
       "      <th>0</th>\n",
       "      <td>nice hotel expensive parking got good deal sta...</td>\n",
       "      <td>Positive</td>\n",
       "      <td>[nice, hotel, expensive, parking, got, good, d...</td>\n",
       "    </tr>\n",
       "    <tr>\n",
       "      <th>1</th>\n",
       "      <td>ok nothing special charge diamond member hilto...</td>\n",
       "      <td>Negative</td>\n",
       "      <td>[ok, nothing, special, charge, diamond, member...</td>\n",
       "    </tr>\n",
       "    <tr>\n",
       "      <th>2</th>\n",
       "      <td>nice rooms not 4* experience hotel monaco seat...</td>\n",
       "      <td>Negative</td>\n",
       "      <td>[nice, rooms, not, 4*, experience, hotel, mona...</td>\n",
       "    </tr>\n",
       "    <tr>\n",
       "      <th>3</th>\n",
       "      <td>unique, great stay, wonderful time hotel monac...</td>\n",
       "      <td>Positive</td>\n",
       "      <td>[unique,, great, stay,, wonderful, time, hotel...</td>\n",
       "    </tr>\n",
       "    <tr>\n",
       "      <th>4</th>\n",
       "      <td>great stay great stay, went seahawk game aweso...</td>\n",
       "      <td>Positive</td>\n",
       "      <td>[great, stay, great, stay,, went, seahawk, gam...</td>\n",
       "    </tr>\n",
       "  </tbody>\n",
       "</table>\n",
       "</div>"
      ],
      "text/plain": [
       "                                              Review    Rating  \\\n",
       "0  nice hotel expensive parking got good deal sta...  Positive   \n",
       "1  ok nothing special charge diamond member hilto...  Negative   \n",
       "2  nice rooms not 4* experience hotel monaco seat...  Negative   \n",
       "3  unique, great stay, wonderful time hotel monac...  Positive   \n",
       "4  great stay great stay, went seahawk game aweso...  Positive   \n",
       "\n",
       "                                        Review_lists  \n",
       "0  [nice, hotel, expensive, parking, got, good, d...  \n",
       "1  [ok, nothing, special, charge, diamond, member...  \n",
       "2  [nice, rooms, not, 4*, experience, hotel, mona...  \n",
       "3  [unique,, great, stay,, wonderful, time, hotel...  \n",
       "4  [great, stay, great, stay,, went, seahawk, gam...  "
      ]
     },
     "execution_count": 49,
     "metadata": {},
     "output_type": "execute_result"
    }
   ],
   "source": [
    "df['Review_lists']=df['Review'].apply(corpus)\n",
    "df.head()"
   ]
  },
  {
   "cell_type": "code",
   "execution_count": 57,
   "id": "7e4524b9-eb46-4dae-95bc-709dacd504be",
   "metadata": {},
   "outputs": [
    {
     "name": "stderr",
     "output_type": "stream",
     "text": [
      "100%|\u001b[32m████████████████████████████████████████████████████████████████████████████████████████████████████████\u001b[0m| 20491/20491 [00:00<00:00, 89731.34it/s]\u001b[0m\n"
     ]
    },
    {
     "data": {
      "text/plain": [
       "2138765"
      ]
     },
     "execution_count": 57,
     "metadata": {},
     "output_type": "execute_result"
    }
   ],
   "source": [
    "from tqdm import trange\n",
    "corpus=[]\n",
    "for i in trange(df.shape[0],ncols=150,nrows=10,\n",
    "                colour='green',smoothing=0.8):\n",
    "    corpus+=df['Review_lists'][i]\n",
    "len(corpus)"
   ]
  },
  {
   "cell_type": "code",
   "execution_count": null,
   "id": "15fe5644-62ff-435a-a33e-86e3b645330a",
   "metadata": {},
   "outputs": [],
   "source": [
    "from collections import Counter\n"
   ]
  },
  {
   "cell_type": "code",
   "execution_count": 1,
   "id": "71aca93f-a21a-4006-bd10-dfe8f6c48da7",
   "metadata": {},
   "outputs": [
    {
     "ename": "NameError",
     "evalue": "name 'mostCommon' is not defined",
     "output_type": "error",
     "traceback": [
      "\u001b[1;31m---------------------------------------------------------------------------\u001b[0m",
      "\u001b[1;31mNameError\u001b[0m                                 Traceback (most recent call last)",
      "Cell \u001b[1;32mIn[1], line 3\u001b[0m\n\u001b[0;32m      1\u001b[0m words\u001b[38;5;241m=\u001b[39m[]\n\u001b[0;32m      2\u001b[0m freq\u001b[38;5;241m=\u001b[39m[]\n\u001b[1;32m----> 3\u001b[0m \u001b[38;5;28;01mfor\u001b[39;00m word,count \u001b[38;5;129;01min\u001b[39;00m mostCommon:\n\u001b[0;32m      4\u001b[0m     words\u001b[38;5;241m.\u001b[39mappend(word)\n\u001b[0;32m      5\u001b[0m     freq\u001b[38;5;241m.\u001b[39mappend(count)\n",
      "\u001b[1;31mNameError\u001b[0m: name 'mostCommon' is not defined"
     ]
    }
   ],
   "source": [
    "words=[]\n",
    "freq=[]\n",
    "for word,count in mostCommon:\n",
    "    words.append(word)\n",
    "    freq.append(count)"
   ]
  },
  {
   "cell_type": "code",
   "execution_count": 5,
   "id": "844f4f96-b41c-4c82-933c-3d120133f7c2",
   "metadata": {},
   "outputs": [
    {
     "data": {
      "image/png": "[encoded data removed]",
      "text/plain": [
       "<Figure size 640x480 with 1 Axes>"
      ]
     },
     "metadata": {},
     "output_type": "display_data"
    }
   ],
   "source": [
    "import matplotlib.pyplot as plt\n",
    "import seaborn as sns\n",
    "sns.barplot(x=freq,y=words)\n",
    "plt.title('Top 10 Most Frequency Occuring Words')\n",
    "plt.show()"
   ]
  },
  {
   "cell_type": "code",
   "execution_count": 3,
   "id": "c0329ec9-0f70-47eb-abce-4e92612e8240",
   "metadata": {},
   "outputs": [],
   "source": [
    "doc_trump=\"Mr.Trump became president after winning the political election.Though he lost the support of some republican friends,Trump is friends with President Putin\"\n",
    "doc_election=\"President Trump says Putin had no political interference is the election outcome. He says it was a witchhunt by political parties. He claimed President Putin is a friend who had nothing to do with the election\"\n",
    "doc_putin=\"Post elections,Vladmir Putin beacme President of Russia. President Putin had served as the Prime Minister earlier in his political career\"\n",
    "\n",
    "documents=[doc_trump,doc_election,doc_putin]"
   ]
  },
  {
   "cell_type": "code",
   "execution_count": 11,
   "id": "6b84705c-e969-419b-adc0-c9415902c260",
   "metadata": {},
   "outputs": [],
   "source": [
    "#Scikit Learn\n",
    "from sklearn.feature_extraction.text import CountVectorizer\n",
    "import pandas as pd\n",
    "\n",
    "count_vect=CountVectorizer(stop_words='english')\n",
    "count_vect=CountVectorizer()\n",
    "sparse_matrix=count_vect.fit_transform(documents)\n",
    "\n",
    "doc_term_matrix=sparse_matrix.todense()\n",
    "df=pd.DataFrame(doc_term_matrix,\n",
    "                columns=count_vect.get_feature_names_out(),\n",
    "                index=['doc_trump','doc_election','doc_putin'])"
   ]
  },
  {
   "cell_type": "code",
   "execution_count": 13,
   "id": "1d84c965-85d1-4b6a-9ff4-6eb50ca3047a",
   "metadata": {},
   "outputs": [
    {
     "data": {
      "text/html": [
       "<div>\n",
       "<style scoped>\n",
       "    .dataframe tbody tr th:only-of-type {\n",
       "        vertical-align: middle;\n",
       "    }\n",
       "\n",
       "    .dataframe tbody tr th {\n",
       "        vertical-align: top;\n",
       "    }\n",
       "\n",
       "    .dataframe thead th {\n",
       "        text-align: right;\n",
       "    }\n",
       "</style>\n",
       "<table border=\"1\" class=\"dataframe\">\n",
       "  <thead>\n",
       "    <tr style=\"text-align: right;\">\n",
       "      <th></th>\n",
       "      <th>after</th>\n",
       "      <th>as</th>\n",
       "      <th>beacme</th>\n",
       "      <th>became</th>\n",
       "      <th>by</th>\n",
       "      <th>career</th>\n",
       "      <th>claimed</th>\n",
       "      <th>do</th>\n",
       "      <th>earlier</th>\n",
       "      <th>election</th>\n",
       "      <th>...</th>\n",
       "      <th>the</th>\n",
       "      <th>though</th>\n",
       "      <th>to</th>\n",
       "      <th>trump</th>\n",
       "      <th>vladmir</th>\n",
       "      <th>was</th>\n",
       "      <th>who</th>\n",
       "      <th>winning</th>\n",
       "      <th>witchhunt</th>\n",
       "      <th>with</th>\n",
       "    </tr>\n",
       "  </thead>\n",
       "  <tbody>\n",
       "    <tr>\n",
       "      <th>doc_trump</th>\n",
       "      <td>1</td>\n",
       "      <td>0</td>\n",
       "      <td>0</td>\n",
       "      <td>1</td>\n",
       "      <td>0</td>\n",
       "      <td>0</td>\n",
       "      <td>0</td>\n",
       "      <td>0</td>\n",
       "      <td>0</td>\n",
       "      <td>1</td>\n",
       "      <td>...</td>\n",
       "      <td>2</td>\n",
       "      <td>1</td>\n",
       "      <td>0</td>\n",
       "      <td>2</td>\n",
       "      <td>0</td>\n",
       "      <td>0</td>\n",
       "      <td>0</td>\n",
       "      <td>1</td>\n",
       "      <td>0</td>\n",
       "      <td>1</td>\n",
       "    </tr>\n",
       "    <tr>\n",
       "      <th>doc_election</th>\n",
       "      <td>0</td>\n",
       "      <td>0</td>\n",
       "      <td>0</td>\n",
       "      <td>0</td>\n",
       "      <td>1</td>\n",
       "      <td>0</td>\n",
       "      <td>1</td>\n",
       "      <td>1</td>\n",
       "      <td>0</td>\n",
       "      <td>2</td>\n",
       "      <td>...</td>\n",
       "      <td>2</td>\n",
       "      <td>0</td>\n",
       "      <td>1</td>\n",
       "      <td>1</td>\n",
       "      <td>0</td>\n",
       "      <td>1</td>\n",
       "      <td>1</td>\n",
       "      <td>0</td>\n",
       "      <td>1</td>\n",
       "      <td>1</td>\n",
       "    </tr>\n",
       "    <tr>\n",
       "      <th>doc_putin</th>\n",
       "      <td>0</td>\n",
       "      <td>1</td>\n",
       "      <td>1</td>\n",
       "      <td>0</td>\n",
       "      <td>0</td>\n",
       "      <td>1</td>\n",
       "      <td>0</td>\n",
       "      <td>0</td>\n",
       "      <td>1</td>\n",
       "      <td>0</td>\n",
       "      <td>...</td>\n",
       "      <td>1</td>\n",
       "      <td>0</td>\n",
       "      <td>0</td>\n",
       "      <td>0</td>\n",
       "      <td>1</td>\n",
       "      <td>0</td>\n",
       "      <td>0</td>\n",
       "      <td>0</td>\n",
       "      <td>0</td>\n",
       "      <td>0</td>\n",
       "    </tr>\n",
       "  </tbody>\n",
       "</table>\n",
       "<p>3 rows × 49 columns</p>\n",
       "</div>"
      ],
      "text/plain": [
       "              after  as  beacme  became  by  career  claimed  do  earlier  \\\n",
       "doc_trump         1   0       0       1   0       0        0   0        0   \n",
       "doc_election      0   0       0       0   1       0        1   1        0   \n",
       "doc_putin         0   1       1       0   0       1        0   0        1   \n",
       "\n",
       "              election  ...  the  though  to  trump  vladmir  was  who  \\\n",
       "doc_trump            1  ...    2       1   0      2        0    0    0   \n",
       "doc_election         2  ...    2       0   1      1        0    1    1   \n",
       "doc_putin            0  ...    1       0   0      0        1    0    0   \n",
       "\n",
       "              winning  witchhunt  with  \n",
       "doc_trump           1          0     1  \n",
       "doc_election        0          1     1  \n",
       "doc_putin           0          0     0  \n",
       "\n",
       "[3 rows x 49 columns]"
      ]
     },
     "execution_count": 13,
     "metadata": {},
     "output_type": "execute_result"
    }
   ],
   "source": [
    "from sklearn.feature_extraction.text import CountVectorizer\n",
    "\n",
    "import pandas as pd\n",
    "\n",
    " \n",
    "\n",
    "# Create the Document Term Matrix\n",
    "\n",
    "count_vect = CountVectorizer(stop_words='english')\n",
    "\n",
    "count_vect = CountVectorizer()\n",
    "\n",
    "sparse_matrix = count_vect.fit_transform(documents)\n",
    "\n",
    " \n",
    "\n",
    "# OPTIONAL: Convert Sparse Matrix to Pandas Dataframe if you want to see the word frequencies.\n",
    "\n",
    "doc_term_matrix = sparse_matrix.todense()\n",
    "\n",
    "df = pd.DataFrame(doc_term_matrix, \n",
    "                  columns=count_vect.get_feature_names_out(), \n",
    "\n",
    "                  index=['doc_trump', 'doc_election', 'doc_putin'])\n",
    "\n",
    "df\n",
    "\n"
   ]
  },
  {
   "cell_type": "code",
   "execution_count": 25,
   "id": "a45b956d-53cb-4edb-832c-9922995de1ac",
   "metadata": {},
   "outputs": [
    {
     "name": "stdout",
     "output_type": "stream",
     "text": [
      "[[1.         0.51480485 0.35355339]\n",
      " [0.51480485 1.         0.38829014]\n",
      " [0.35355339 0.38829014 1.        ]]\n"
     ]
    }
   ],
   "source": [
    "from sklearn.metrics.pairwise import cosine_similarity\n",
    "print(cosine_similarity(df,df))"
   ]
  },
  {
   "cell_type": "code",
   "execution_count": 27,
   "id": "1a39d450-94fe-45fc-b0cd-7fd9d511372b",
   "metadata": {},
   "outputs": [
    {
     "data": {
      "image/png": "[encoded data removed]",
      "text/plain": [
       "<Figure size 640x480 with 1 Axes>"
      ]
     },
     "metadata": {},
     "output_type": "display_data"
    }
   ],
   "source": [
    "import numpy as np\n",
    "\n",
    "import matplotlib.pyplot as plt\n",
    "\n",
    "# consider two vectors A and B in 2-D\n",
    "\n",
    "A = np.array([7,3])\n",
    "\n",
    "B = np.array([3,7])\n",
    "\n",
    "ax = plt.axes()\n",
    "\n",
    "ax.arrow(0.0, 0.0, A[0], A[1], head_width=0.4, head_length=0.5)\n",
    "\n",
    "plt.annotate(f\"A({A[0]},{A[1]})\", xy=(A[0], A[1]),xytext=(A[0]+0.5, A[1]))\n",
    "\n",
    "ax.arrow(0.0, 0.0, B[0], B[1], head_width=0.4, head_length=0.5)\n",
    "\n",
    "plt.annotate(f\"B({B[0]},{B[1]})\", xy=(B[0], B[1]),xytext=(B[0]+0.5, B[1]))\n",
    "\n",
    "plt.xlim(0,10)\n",
    "\n",
    "plt.ylim(0,10)\n",
    "\n",
    "plt.show()\n",
    "\n",
    "plt.close()"
   ]
  },
  {
   "cell_type": "code",
   "execution_count": 29,
   "id": "e6a072b6-c022-4fda-af80-b90a02207bc5",
   "metadata": {},
   "outputs": [
    {
     "name": "stdout",
     "output_type": "stream",
     "text": [
      "Cosine Similarity between A and B:0.7241379310344827\n",
      "Cosine Distance between A and B:0.27586206896551735\n"
     ]
    }
   ],
   "source": [
    "# cosine similarity between A and B\n",
    "\n",
    "cos_sim = np.dot(A,B)/(np.linalg.norm(A)*np.linalg.norm(B))\n",
    "\n",
    "print (f\"Cosine Similarity between A and B:{cos_sim}\")\n",
    "\n",
    "print (f\"Cosine Distance between A and B:{1-cos_sim}\")"
   ]
  },
  {
   "cell_type": "code",
   "execution_count": 31,
   "id": "63594198-c1ab-48a0-837e-970ba5d5240f",
   "metadata": {},
   "outputs": [
    {
     "name": "stdout",
     "output_type": "stream",
     "text": [
      "AnB =  {1, 2}\n",
      "AUB =  {1, 2, 3, 4, 5, 6, 8, 9}\n",
      "J(A,B) =  0.25\n"
     ]
    }
   ],
   "source": [
    "\n",
    "A = {1,2,3,4,6}\n",
    "\n",
    "B = {1,2,5,8,9}\n",
    "\n",
    "# Intersaction and Union of two sets can also be done using & and | operators.\n",
    "\n",
    "C = A.intersection(B)\n",
    "\n",
    "D = A.union(B)\n",
    "\n",
    "print('AnB = ', C)\n",
    "\n",
    "print('AUB = ', D)\n",
    "\n",
    "print('J(A,B) = ', float(len(C))/float(len(D)))"
   ]
  },
  {
   "cell_type": "code",
   "execution_count": 7,
   "id": "bacf9b95-db84-41c0-b47d-ddd4bcd05f4c",
   "metadata": {},
   "outputs": [],
   "source": [
    "import numpy as np\n",
    "from sklearn.feature_extraction.text import TfidfVectorizer\n",
    "from sklearn.metrics.pairwise import cosine_similarity"
   ]
  },
  {
   "cell_type": "code",
   "execution_count": 11,
   "id": "3d6c34f9-8c87-423f-a081-62543b234616",
   "metadata": {},
   "outputs": [],
   "source": [
    "responses=[\n",
    "    \"You can return an item within 7 days of purchase.\",\n",
    "    \"Our return policy allows you to return items that are unopened and in their original comdition.\",\n",
    "    \"we offer free shipping on orders over $50.\",\n",
    "    \"To track your order,you can visit the 'Order Tracking' page and enter your order number.\",\n",
    "    \"Our customer support team is avaiable from 9AM to 6PM, Monday through Friday.\"\n",
    "]"
   ]
  },
  {
   "cell_type": "code",
   "execution_count": 13,
   "id": "4e00c3bc-29b4-47ec-b415-1609f8146e51",
   "metadata": {},
   "outputs": [],
   "source": [
    "user_input=\"How can I track my order?\""
   ]
  },
  {
   "cell_type": "code",
   "execution_count": 15,
   "id": "d9bf6068-c351-4620-9126-02af3c5f1428",
   "metadata": {},
   "outputs": [],
   "source": [
    "vectorizer = TfidfVectorizer(stop_words='english')\n",
    "all_texts = responses + [user_input]\n",
    "tfidf_matrix = vectorizer.fit_transform(all_texts)"
   ]
  },
  {
   "cell_type": "code",
   "execution_count": 25,
   "id": "0510e8a7-61de-47f0-b53d-eed9bc7d5578",
   "metadata": {},
   "outputs": [],
   "source": [
    "user_vector = tfidf_matrix[-1]\n",
    "similarity_scores = cosine_similarity(user_vector, tfidf_matrix[:-1])"
   ]
  },
  {
   "cell_type": "code",
   "execution_count": 27,
   "id": "961540d8-779a-4ec0-9c0d-6c8b3670aa68",
   "metadata": {},
   "outputs": [],
   "source": [
    "most_similar_index = np.argmax(similarity_scores)\n",
    "most_similar_response = responses[most_similar_index]"
   ]
  },
  {
   "cell_type": "code",
   "execution_count": 21,
   "id": "ee773929-6548-4483-8323-7bb37d4a4ecf",
   "metadata": {},
   "outputs": [],
   "source": [
    "most_similar_idx=np.argmax(cosine_similarities)"
   ]
  },
  {
   "cell_type": "code",
   "execution_count": 29,
   "id": "b2e0ab8b-74e0-46a1-88f4-4ae6004517ef",
   "metadata": {},
   "outputs": [
    {
     "name": "stdout",
     "output_type": "stream",
     "text": [
      "User Input: How can I track my order?\n",
      "Most Similar Response: To track your order,you can visit the 'Order Tracking' page and enter your order number.\n"
     ]
    }
   ],
   "source": [
    "print(\"User Input:\", user_input)\n",
    "print(\"Most Similar Response:\", most_similar_response)"
   ]
  },
  {
   "cell_type": "code",
   "execution_count": 31,
   "id": "72c2587a-98ee-4a7a-adbc-6017bb642fae",
   "metadata": {},
   "outputs": [],
   "source": [
    "import io\n",
    "import random\n",
    "import string\n",
    "import warnings\n",
    "warnings.filterwarnings('ignore')\n",
    "import numpy as np\n",
    "from sklearn.feature_extraction.text import TfidfVectorizer\n",
    "from sklearn.metrics.pairwise import cosine_similarity\n",
    "import nltk\n",
    "from nltk.stem import WordNetLemmatizer\n"
   ]
  },
  {
   "cell_type": "code",
   "execution_count": null,
   "id": "76c907c3-8d8b-437e-9d00-e85e16d7f1cf",
   "metadata": {},
   "outputs": [],
   "source": [
    "nltk.download('popular',quiet=True)\n",
    "nltk.download('punkt')\n",
    "nltk.download('wordnet')"
   ]
  },
  {
   "cell_type": "code",
   "execution_count": null,
   "id": "dc833d73-da8c-4d4b-a414-c96147b4a874",
   "metadata": {},
   "outputs": [],
   "source": [
    "f=open('input.txt','r',errors='ignore')\n",
    "raw=f.read()\n",
    "raw=raw.lower()"
   ]
  },
  {
   "cell_type": "code",
   "execution_count": null,
   "id": "8499de45-e495-4766-810c-398649c30669",
   "metadata": {},
   "outputs": [],
   "source": [
    "import nltk\n",
    "sent_tokens=nltk.sent_tokenizer(raw)\n",
    "word_tokens=nltk.word_tokenize(raw)"
   ]
  },
  {
   "cell_type": "code",
   "execution_count": null,
   "id": "8fa9fee6-a062-4d60-bbaf-69363acada20",
   "metadata": {},
   "outputs": [],
   "source": [
    "lemmer=nltk.stem.WorkerLemmatizer()\n",
    "def LemTokens(tokens):\n",
    "    return [lemmer,lemmatize(token) for token in tokens]"
   ]
  },
  {
   "cell_type": "code",
   "execution_count": 29,
   "id": "8991a2e6-84a7-49e0-b1ab-25cf875aefbb",
   "metadata": {},
   "outputs": [
    {
     "ename": "FileNotFoundError",
     "evalue": "[Errno 2] No such file or directory: 'input.txt'",
     "output_type": "error",
     "traceback": [
      "\u001b[1;31m---------------------------------------------------------------------------\u001b[0m",
      "\u001b[1;31mFileNotFoundError\u001b[0m                         Traceback (most recent call last)",
      "Cell \u001b[1;32mIn[29], line 1\u001b[0m\n\u001b[1;32m----> 1\u001b[0m f\u001b[38;5;241m=\u001b[39m\u001b[38;5;28mopen\u001b[39m(\u001b[38;5;124m'\u001b[39m\u001b[38;5;124minput.txt\u001b[39m\u001b[38;5;124m'\u001b[39m,\u001b[38;5;124m'\u001b[39m\u001b[38;5;124mr\u001b[39m\u001b[38;5;124m'\u001b[39m,errors\u001b[38;5;241m=\u001b[39m\u001b[38;5;124m'\u001b[39m\u001b[38;5;124mignore\u001b[39m\u001b[38;5;124m'\u001b[39m)\n\u001b[0;32m      2\u001b[0m raw\u001b[38;5;241m=\u001b[39mf\u001b[38;5;241m.\u001b[39mread()\n\u001b[0;32m      3\u001b[0m raw\u001b[38;5;241m=\u001b[39mraw\u001b[38;5;241m.\u001b[39mlower\n",
      "File \u001b[1;32m~\\anaconda3\\Lib\\site-packages\\IPython\\core\\interactiveshell.py:324\u001b[0m, in \u001b[0;36m_modified_open\u001b[1;34m(file, *args, **kwargs)\u001b[0m\n\u001b[0;32m    317\u001b[0m \u001b[38;5;28;01mif\u001b[39;00m file \u001b[38;5;129;01min\u001b[39;00m {\u001b[38;5;241m0\u001b[39m, \u001b[38;5;241m1\u001b[39m, \u001b[38;5;241m2\u001b[39m}:\n\u001b[0;32m    318\u001b[0m     \u001b[38;5;28;01mraise\u001b[39;00m \u001b[38;5;167;01mValueError\u001b[39;00m(\n\u001b[0;32m    319\u001b[0m         \u001b[38;5;124mf\u001b[39m\u001b[38;5;124m\"\u001b[39m\u001b[38;5;124mIPython won\u001b[39m\u001b[38;5;124m'\u001b[39m\u001b[38;5;124mt let you open fd=\u001b[39m\u001b[38;5;132;01m{\u001b[39;00mfile\u001b[38;5;132;01m}\u001b[39;00m\u001b[38;5;124m by default \u001b[39m\u001b[38;5;124m\"\u001b[39m\n\u001b[0;32m    320\u001b[0m         \u001b[38;5;124m\"\u001b[39m\u001b[38;5;124mas it is likely to crash IPython. If you know what you are doing, \u001b[39m\u001b[38;5;124m\"\u001b[39m\n\u001b[0;32m    321\u001b[0m         \u001b[38;5;124m\"\u001b[39m\u001b[38;5;124myou can use builtins\u001b[39m\u001b[38;5;124m'\u001b[39m\u001b[38;5;124m open.\u001b[39m\u001b[38;5;124m\"\u001b[39m\n\u001b[0;32m    322\u001b[0m     )\n\u001b[1;32m--> 324\u001b[0m \u001b[38;5;28;01mreturn\u001b[39;00m io_open(file, \u001b[38;5;241m*\u001b[39margs, \u001b[38;5;241m*\u001b[39m\u001b[38;5;241m*\u001b[39mkwargs)\n",
      "\u001b[1;31mFileNotFoundError\u001b[0m: [Errno 2] No such file or directory: 'input.txt'"
     ]
    }
   ],
   "source": [
    "\n",
    "f=open('input.txt','r',errors='ignore')\n",
    "raw=f.read()\n",
    "raw=raw.lower"
   ]
  },
  {
   "cell_type": "code",
   "execution_count": 31,
   "id": "dc25e52e-fc72-4c74-8386-3daefe83b174",
   "metadata": {},
   "outputs": [
    {
     "ename": "NameError",
     "evalue": "name 'raw' is not defined",
     "output_type": "error",
     "traceback": [
      "\u001b[1;31m---------------------------------------------------------------------------\u001b[0m",
      "\u001b[1;31mNameError\u001b[0m                                 Traceback (most recent call last)",
      "Cell \u001b[1;32mIn[31], line 2\u001b[0m\n\u001b[0;32m      1\u001b[0m \u001b[38;5;28;01mimport\u001b[39;00m \u001b[38;5;21;01mnltk\u001b[39;00m\n\u001b[1;32m----> 2\u001b[0m sent_tokens\u001b[38;5;241m=\u001b[39mnltk\u001b[38;5;241m.\u001b[39msent_tokenize(raw)\n\u001b[0;32m      3\u001b[0m word_tokens\u001b[38;5;241m=\u001b[39mnltk\u001b[38;5;241m.\u001b[39mword_tokenize\n",
      "\u001b[1;31mNameError\u001b[0m: name 'raw' is not defined"
     ]
    }
   ],
   "source": [
    "import nltk\n",
    "sent_tokens=nltk.sent_tokenize(raw)\n",
    "word_tokens=nltk.word_tokenize"
   ]
  },
  {
   "cell_type": "code",
   "execution_count": 33,
   "id": "746c33d5-b59f-4605-a744-a245965775db",
   "metadata": {},
   "outputs": [
    {
     "ename": "SyntaxError",
     "evalue": "invalid syntax (4090516293.py, line 4)",
     "output_type": "error",
     "traceback": [
      "\u001b[1;36m  Cell \u001b[1;32mIn[33], line 4\u001b[1;36m\u001b[0m\n\u001b[1;33m    remove punct_dict=dict((ord(punct),None) for punct in string.punctuation)\u001b[0m\n\u001b[1;37m           ^\u001b[0m\n\u001b[1;31mSyntaxError\u001b[0m\u001b[1;31m:\u001b[0m invalid syntax\n"
     ]
    }
   ],
   "source": [
    "lemmer=nltk.stem.WordNetLemmatizer()\n",
    "def LemTokens(tokens):\n",
    "    return [lemmer.lemmatize(token) for token in tokens]\n",
    "remove punct_dict=dict((ord(punct),None) for punct in string.punctuation)\n"
   ]
  },
  {
   "cell_type": "code",
   "execution_count": 35,
   "id": "7d7a7d37-24b8-47d6-9d46-2a1673d3eb66",
   "metadata": {},
   "outputs": [],
   "source": [
    "GREETING_INPUTS = (\"hello\",\"hi\",\"greetings\",\"sup\",\"what's up\",\"hey\")\n",
    "GREETING_RESPONSES = [\"hi\",\"hey\",\"nods\",\"hi there\",\"hello\",\"I am glad! You are talking to me\"]\n",
    "\n",
    "def greeting(sentence):\n",
    "  for word in sentence.split():\n",
    "    if word.lower() in GREETING_INPUTS:\n",
    "      return random.choice(GREETING_RESPONSES)"
   ]
  },
  {
   "cell_type": "code",
   "execution_count": 37,
   "id": "706a9124-26f8-4b98-b7f2-d54d2bd0c085",
   "metadata": {},
   "outputs": [],
   "source": [
    "def response(user_response):\n",
    "  robo_response = ''\n",
    "  sent_tokens.append(user_response)\n",
    "  tfidfVec = TfidfVectorizer(tokenizer=LemNormalize,stop_words='english')\n",
    "  tfidf = tfidVec.fit_transform(sent_tokens)\n",
    "  vals = cosine_similarity(tfidf[-1],tfidf)\n",
    "  idx = vals.argsort()[0][-2]\n",
    "  flat = vals.flatten()\n",
    "  flat.sort()\n",
    "  req_tfidf = flat[-2]\n",
    "  if(req_tfidf==0):\n",
    "    robo_response = robo_response+\"I am sorry! I don't understand you\"\n",
    "    return robo_response\n",
    "  else:\n",
    "    robo_response = robo_response+sent_tokens[idx]\n",
    "    return robo_response\n",
    "      "
   ]
  },
  {
   "cell_type": "code",
   "execution_count": 39,
   "id": "b623654e-9b76-476b-8a13-0aa03a232409",
   "metadata": {},
   "outputs": [
    {
     "ename": "SyntaxError",
     "evalue": "unterminated string literal (detected at line 9) (3885642350.py, line 9)",
     "output_type": "error",
     "traceback": [
      "\u001b[1;36m  Cell \u001b[1;32mIn[39], line 9\u001b[1;36m\u001b[0m\n\u001b[1;33m    print(\"SABot: You are welcome...')\u001b[0m\n\u001b[1;37m          ^\u001b[0m\n\u001b[1;31mSyntaxError\u001b[0m\u001b[1;31m:\u001b[0m unterminated string literal (detected at line 9)\n"
     ]
    }
   ],
   "source": [
    "flag=True\n",
    "print(\"SABot: My name is SABot. How can I assist you?.If you want to exit, type Bye!\"\n",
    "while(flag==True):\n",
    "    user_response=input()\n",
    "    user_response=user_response.lower()\n",
    "    if(user_response!='bye'):\n",
    "        if(user_response=='thanks' or user_response=='thank you'):\n",
    "            flag=False\n",
    "            print(\"SABot: You are welcome...')\n",
    "        else:\n",
    "            if(greeting(user_response)!=None):\n",
    "                print(\"SABot:\"+greeting(user_response))\n",
    "            else:\n",
    "                print(\"SABot: \" end=\"\")"
   ]
  },
  {
   "cell_type": "code",
   "execution_count": 45,
   "id": "8eb56543-9a4c-4426-a25e-ca252b9ec2c9",
   "metadata": {},
   "outputs": [
    {
     "name": "stdout",
     "output_type": "stream",
     "text": [
      "SABot : My name is SABot. I will answer your queries about Chatbots. If you want to exit, type Bye!\n"
     ]
    },
    {
     "name": "stdin",
     "output_type": "stream",
     "text": [
      " bye\n"
     ]
    },
    {
     "name": "stdout",
     "output_type": "stream",
     "text": [
      "SABot : Bye! take care..\n"
     ]
    }
   ],
   "source": [
    "flag = True\n",
    "print(\"SABot : My name is SABot. I will answer your queries about Chatbots. If you want to exit, type Bye!\")\n",
    "while flag:\n",
    "  user_response = input()\n",
    "  user_response = user_response.lower()\n",
    "  if user_response != 'bye':\n",
    "    if user_response in ('thanks', 'thank you'):\n",
    "      flag = False\n",
    "      print(\"SABot : You are welcome..\")\n",
    "    else:\n",
    "      if greeting(user_response):\n",
    "        print(\"SABot : \" + greeting(user_response))\n",
    "      else:\n",
    "        print(\"SABot : \", end=\"\")\n",
    "        print(response(user_response))\n",
    "        sent_tokens.remove(user_response) \n",
    "  else:\n",
    "    flag = False\n",
    "    print(\"SABot : Bye! take care..\")"
   ]
  },
  {
   "cell_type": "code",
   "execution_count": 1,
   "id": "eb13b8eb-d5e5-4d87-bce9-0df904aa5337",
   "metadata": {},
   "outputs": [],
   "source": [
    "sent = \"Ram is studying at Malla Reddy University in Hyderabad,India\""
   ]
  },
  {
   "cell_type": "code",
   "execution_count": 3,
   "id": "f98e1e0b-bd8a-426e-b907-c9af6bc5f22e",
   "metadata": {},
   "outputs": [
    {
     "name": "stderr",
     "output_type": "stream",
     "text": [
      "[nltk_data] Downloading package words to\n",
      "[nltk_data]     C:\\Users\\bhargavi\\AppData\\Roaming\\nltk_data...\n",
      "[nltk_data]   Unzipping corpora\\words.zip.\n"
     ]
    },
    {
     "data": {
      "text/plain": [
       "True"
      ]
     },
     "execution_count": 3,
     "metadata": {},
     "output_type": "execute_result"
    }
   ],
   "source": [
    "import nltk\n",
    "nltk.download('words')"
   ]
  },
  {
   "cell_type": "code",
   "execution_count": 5,
   "id": "549ab314-5cda-4771-a0d2-b877ae88d161",
   "metadata": {},
   "outputs": [
    {
     "name": "stdout",
     "output_type": "stream",
     "text": [
      "Collecting svglib\n",
      "  Downloading svglib-1.5.1.tar.gz (913 kB)\n",
      "     ---------------------------------------- 0.0/913.9 kB ? eta -:--:--\n",
      "     ---------------------------------------- 0.0/913.9 kB ? eta -:--:--\n",
      "     ---------------------------------------- 0.0/913.9 kB ? eta -:--:--\n",
      "     ----------- ---------------------------- 262.1/913.9 kB ? eta -:--:--\n",
      "     ----------- ---------------------------- 262.1/913.9 kB ? eta -:--:--\n",
      "     ----------- ---------------------------- 262.1/913.9 kB ? eta -:--:--\n",
      "     ----------- ---------------------------- 262.1/913.9 kB ? eta -:--:--\n",
      "     ----------- ---------------------------- 262.1/913.9 kB ? eta -:--:--\n",
      "     ----------- ---------------------------- 262.1/913.9 kB ? eta -:--:--\n",
      "     ----------- ---------------------------- 262.1/913.9 kB ? eta -:--:--\n",
      "     ----------- ---------------------------- 262.1/913.9 kB ? eta -:--:--\n",
      "     ----------- ---------------------------- 262.1/913.9 kB ? eta -:--:--\n",
      "     -------------------- --------------- 524.3/913.9 kB 144.6 kB/s eta 0:00:03\n",
      "     -------------------- --------------- 524.3/913.9 kB 144.6 kB/s eta 0:00:03\n",
      "     -------------------- --------------- 524.3/913.9 kB 144.6 kB/s eta 0:00:03\n",
      "     -------------------- --------------- 524.3/913.9 kB 144.6 kB/s eta 0:00:03\n",
      "     -------------------- --------------- 524.3/913.9 kB 144.6 kB/s eta 0:00:03\n",
      "     -------------------- --------------- 524.3/913.9 kB 144.6 kB/s eta 0:00:03\n",
      "     -------------------- --------------- 524.3/913.9 kB 144.6 kB/s eta 0:00:03\n",
      "     -------------------- --------------- 524.3/913.9 kB 144.6 kB/s eta 0:00:03\n",
      "     -------------------- --------------- 524.3/913.9 kB 144.6 kB/s eta 0:00:03\n",
      "     -------------------- --------------- 524.3/913.9 kB 144.6 kB/s eta 0:00:03\n",
      "     -------------------- --------------- 524.3/913.9 kB 144.6 kB/s eta 0:00:03\n",
      "     -------------------- --------------- 524.3/913.9 kB 144.6 kB/s eta 0:00:03\n",
      "     -------------------- --------------- 524.3/913.9 kB 144.6 kB/s eta 0:00:03\n",
      "     -------------------- --------------- 524.3/913.9 kB 144.6 kB/s eta 0:00:03\n",
      "     -------------------- --------------- 524.3/913.9 kB 144.6 kB/s eta 0:00:03\n",
      "     -------------------- --------------- 524.3/913.9 kB 144.6 kB/s eta 0:00:03\n",
      "     -------------------- --------------- 524.3/913.9 kB 144.6 kB/s eta 0:00:03\n",
      "     -------------------- --------------- 524.3/913.9 kB 144.6 kB/s eta 0:00:03\n",
      "     -------------------- --------------- 524.3/913.9 kB 144.6 kB/s eta 0:00:03\n",
      "     -------------------- --------------- 524.3/913.9 kB 144.6 kB/s eta 0:00:03\n",
      "     -------------------- --------------- 524.3/913.9 kB 144.6 kB/s eta 0:00:03\n",
      "     -------------------- --------------- 524.3/913.9 kB 144.6 kB/s eta 0:00:03\n",
      "     -------------------- --------------- 524.3/913.9 kB 144.6 kB/s eta 0:00:03\n",
      "     -------------------- --------------- 524.3/913.9 kB 144.6 kB/s eta 0:00:03\n",
      "     -------------------- --------------- 524.3/913.9 kB 144.6 kB/s eta 0:00:03\n",
      "     -------------------- --------------- 524.3/913.9 kB 144.6 kB/s eta 0:00:03\n",
      "     -------------------- --------------- 524.3/913.9 kB 144.6 kB/s eta 0:00:03\n",
      "     -------------------- --------------- 524.3/913.9 kB 144.6 kB/s eta 0:00:03\n",
      "     -------------------- --------------- 524.3/913.9 kB 144.6 kB/s eta 0:00:03\n",
      "     -------------------- --------------- 524.3/913.9 kB 144.6 kB/s eta 0:00:03\n",
      "     -------------------- --------------- 524.3/913.9 kB 144.6 kB/s eta 0:00:03\n",
      "     -------------------- --------------- 524.3/913.9 kB 144.6 kB/s eta 0:00:03\n",
      "     -------------------- --------------- 524.3/913.9 kB 144.6 kB/s eta 0:00:03\n",
      "     ------------------------------- ----- 786.4/913.9 kB 58.6 kB/s eta 0:00:03\n",
      "     ------------------------------- ----- 786.4/913.9 kB 58.6 kB/s eta 0:00:03\n",
      "     ------------------------------- ----- 786.4/913.9 kB 58.6 kB/s eta 0:00:03\n",
      "     ------------------------------- ----- 786.4/913.9 kB 58.6 kB/s eta 0:00:03\n",
      "     ------------------------------- ----- 786.4/913.9 kB 58.6 kB/s eta 0:00:03\n",
      "     ------------------------------- ----- 786.4/913.9 kB 58.6 kB/s eta 0:00:03\n",
      "     ------------------------------- ----- 786.4/913.9 kB 58.6 kB/s eta 0:00:03\n",
      "     ------------------------------- ----- 786.4/913.9 kB 58.6 kB/s eta 0:00:03\n",
      "     ------------------------------- ----- 786.4/913.9 kB 58.6 kB/s eta 0:00:03\n",
      "     ------------------------------- ----- 786.4/913.9 kB 58.6 kB/s eta 0:00:03\n",
      "     ------------------------------- ----- 786.4/913.9 kB 58.6 kB/s eta 0:00:03\n",
      "     ------------------------------- ----- 786.4/913.9 kB 58.6 kB/s eta 0:00:03\n",
      "     ------------------------------- ----- 786.4/913.9 kB 58.6 kB/s eta 0:00:03\n",
      "     ------------------------------- ----- 786.4/913.9 kB 58.6 kB/s eta 0:00:03\n",
      "     ------------------------------- ----- 786.4/913.9 kB 58.6 kB/s eta 0:00:03\n",
      "     ------------------------------------- 913.9/913.9 kB 54.0 kB/s eta 0:00:00\n",
      "  Preparing metadata (setup.py): started\n",
      "  Preparing metadata (setup.py): finished with status 'done'\n",
      "Collecting reportlab (from svglib)\n",
      "  Downloading reportlab-4.2.5-py3-none-any.whl.metadata (1.5 kB)\n",
      "Requirement already satisfied: lxml in c:\\users\\bhargavi\\anaconda3\\lib\\site-packages (from svglib) (5.2.1)\n",
      "Requirement already satisfied: tinycss2>=0.6.0 in c:\\users\\bhargavi\\anaconda3\\lib\\site-packages (from svglib) (1.2.1)\n",
      "Collecting cssselect2>=0.2.0 (from svglib)\n",
      "  Downloading cssselect2-0.7.0-py3-none-any.whl.metadata (2.9 kB)\n",
      "Requirement already satisfied: webencodings in c:\\users\\bhargavi\\anaconda3\\lib\\site-packages (from cssselect2>=0.2.0->svglib) (0.5.1)\n",
      "Requirement already satisfied: pillow>=9.0.0 in c:\\users\\bhargavi\\anaconda3\\lib\\site-packages (from reportlab->svglib) (10.4.0)\n",
      "Requirement already satisfied: chardet in c:\\users\\bhargavi\\anaconda3\\lib\\site-packages (from reportlab->svglib) (4.0.0)\n",
      "Downloading cssselect2-0.7.0-py3-none-any.whl (15 kB)\n",
      "Downloading reportlab-4.2.5-py3-none-any.whl (1.9 MB)\n",
      "   ---------------------------------------- 0.0/1.9 MB ? eta -:--:--\n",
      "   ---------------------------------------- 0.0/1.9 MB ? eta -:--:--\n",
      "   ---------------------------------------- 0.0/1.9 MB ? eta -:--:--\n",
      "   ---------------------------------------- 0.0/1.9 MB ? eta -:--:--\n",
      "   ---------------------------------------- 0.0/1.9 MB ? eta -:--:--\n",
      "   ---------------------------------------- 0.0/1.9 MB ? eta -:--:--\n",
      "   ---------------------------------------- 0.0/1.9 MB ? eta -:--:--\n",
      "   ---------------------------------------- 0.0/1.9 MB ? eta -:--:--\n",
      "   ---------------------------------------- 0.0/1.9 MB ? eta -:--:--\n",
      "   ---------------------------------------- 0.0/1.9 MB ? eta -:--:--\n",
      "   ---------------------------------------- 0.0/1.9 MB ? eta -:--:--\n",
      "   ---------------------------------------- 0.0/1.9 MB ? eta -:--:--\n",
      "   ---------------------------------------- 0.0/1.9 MB ? eta -:--:--\n",
      "   ---------------------------------------- 0.0/1.9 MB ? eta -:--:--\n",
      "   ---------------------------------------- 0.0/1.9 MB ? eta -:--:--\n",
      "   ---------------------------------------- 0.0/1.9 MB ? eta -:--:--\n",
      "   ---------------------------------------- 0.0/1.9 MB ? eta -:--:--\n",
      "   ---------------------------------------- 0.0/1.9 MB ? eta -:--:--\n",
      "   ---------------------------------------- 0.0/1.9 MB ? eta -:--:--\n",
      "   ---------------------------------------- 0.0/1.9 MB ? eta -:--:--\n",
      "   ---------------------------------------- 0.0/1.9 MB ? eta -:--:--\n",
      "   ---------------------------------------- 0.0/1.9 MB ? eta -:--:--\n",
      "   ---------------------------------------- 0.0/1.9 MB ? eta -:--:--\n",
      "   ---------------------------------------- 0.0/1.9 MB ? eta -:--:--\n",
      "   ---------------------------------------- 0.0/1.9 MB ? eta -:--:--\n",
      "   ---------------------------------------- 0.0/1.9 MB ? eta -:--:--\n",
      "   ---------------------------------------- 0.0/1.9 MB ? eta -:--:--\n",
      "   ---------------------------------------- 0.0/1.9 MB ? eta -:--:--\n",
      "   ---------------------------------------- 0.0/1.9 MB ? eta -:--:--\n",
      "   ---------------------------------------- 0.0/1.9 MB ? eta -:--:--\n",
      "   ---------------------------------------- 0.0/1.9 MB ? eta -:--:--\n",
      "   ----- ---------------------------------- 0.3/1.9 MB ? eta -:--:--\n",
      "   ----- ---------------------------------- 0.3/1.9 MB ? eta -:--:--\n",
      "   ----- ---------------------------------- 0.3/1.9 MB ? eta -:--:--\n",
      "   ----- ---------------------------------- 0.3/1.9 MB ? eta -:--:--\n",
      "   ----- ---------------------------------- 0.3/1.9 MB ? eta -:--:--\n",
      "   ----- ---------------------------------- 0.3/1.9 MB ? eta -:--:--\n",
      "   ----- ---------------------------------- 0.3/1.9 MB ? eta -:--:--\n",
      "   ----- ---------------------------------- 0.3/1.9 MB ? eta -:--:--\n",
      "   ----- ---------------------------------- 0.3/1.9 MB ? eta -:--:--\n",
      "   ----- ---------------------------------- 0.3/1.9 MB ? eta -:--:--\n",
      "   ----- ---------------------------------- 0.3/1.9 MB ? eta -:--:--\n",
      "   ----- ---------------------------------- 0.3/1.9 MB ? eta -:--:--\n",
      "   ----- ---------------------------------- 0.3/1.9 MB ? eta -:--:--\n",
      "   ----- ---------------------------------- 0.3/1.9 MB ? eta -:--:--\n",
      "   ----- ---------------------------------- 0.3/1.9 MB ? eta -:--:--\n",
      "   ----- ---------------------------------- 0.3/1.9 MB ? eta -:--:--\n",
      "   ----- ---------------------------------- 0.3/1.9 MB ? eta -:--:--\n",
      "   ----- ---------------------------------- 0.3/1.9 MB ? eta -:--:--\n",
      "   ----- ---------------------------------- 0.3/1.9 MB ? eta -:--:--\n",
      "   ---------- ----------------------------- 0.5/1.9 MB 65.0 kB/s eta 0:00:22\n",
      "   ---------- ----------------------------- 0.5/1.9 MB 65.0 kB/s eta 0:00:22\n",
      "   ---------- ----------------------------- 0.5/1.9 MB 65.0 kB/s eta 0:00:22\n",
      "   ---------- ----------------------------- 0.5/1.9 MB 65.0 kB/s eta 0:00:22\n",
      "   ---------- ----------------------------- 0.5/1.9 MB 65.0 kB/s eta 0:00:22\n",
      "   ---------- ----------------------------- 0.5/1.9 MB 65.0 kB/s eta 0:00:22\n",
      "   ---------- ----------------------------- 0.5/1.9 MB 65.0 kB/s eta 0:00:22\n",
      "   ---------- ----------------------------- 0.5/1.9 MB 65.0 kB/s eta 0:00:22\n",
      "   ---------- ----------------------------- 0.5/1.9 MB 65.0 kB/s eta 0:00:22\n",
      "   ---------- ----------------------------- 0.5/1.9 MB 65.0 kB/s eta 0:00:22\n",
      "   ---------- ----------------------------- 0.5/1.9 MB 65.0 kB/s eta 0:00:22\n",
      "   ---------- ----------------------------- 0.5/1.9 MB 65.0 kB/s eta 0:00:22\n",
      "   ---------- ----------------------------- 0.5/1.9 MB 65.0 kB/s eta 0:00:22\n",
      "   ---------- ----------------------------- 0.5/1.9 MB 65.0 kB/s eta 0:00:22\n",
      "   ---------- ----------------------------- 0.5/1.9 MB 65.0 kB/s eta 0:00:22\n",
      "   ---------- ----------------------------- 0.5/1.9 MB 65.0 kB/s eta 0:00:22\n",
      "   ---------- ----------------------------- 0.5/1.9 MB 65.0 kB/s eta 0:00:22\n",
      "   ---------------- ----------------------- 0.8/1.9 MB 68.5 kB/s eta 0:00:17\n",
      "   ---------------- ----------------------- 0.8/1.9 MB 68.5 kB/s eta 0:00:17\n",
      "   ---------------- ----------------------- 0.8/1.9 MB 68.5 kB/s eta 0:00:17\n",
      "   ---------------- ----------------------- 0.8/1.9 MB 68.5 kB/s eta 0:00:17\n",
      "   ---------------- ----------------------- 0.8/1.9 MB 68.5 kB/s eta 0:00:17\n",
      "   ---------------- ----------------------- 0.8/1.9 MB 68.5 kB/s eta 0:00:17\n",
      "   ---------------- ----------------------- 0.8/1.9 MB 68.5 kB/s eta 0:00:17\n",
      "   ---------------- ----------------------- 0.8/1.9 MB 68.5 kB/s eta 0:00:17\n",
      "   ---------------- ----------------------- 0.8/1.9 MB 68.5 kB/s eta 0:00:17\n",
      "   ---------------- ----------------------- 0.8/1.9 MB 68.5 kB/s eta 0:00:17\n",
      "   ---------------- ----------------------- 0.8/1.9 MB 68.5 kB/s eta 0:00:17\n",
      "   ---------------- ----------------------- 0.8/1.9 MB 68.5 kB/s eta 0:00:17\n",
      "   ---------------- ----------------------- 0.8/1.9 MB 68.5 kB/s eta 0:00:17\n",
      "   ---------------- ----------------------- 0.8/1.9 MB 68.5 kB/s eta 0:00:17\n",
      "   ---------------- ----------------------- 0.8/1.9 MB 68.5 kB/s eta 0:00:17\n",
      "   ---------------- ----------------------- 0.8/1.9 MB 68.5 kB/s eta 0:00:17\n",
      "   ---------------- ----------------------- 0.8/1.9 MB 68.5 kB/s eta 0:00:17\n",
      "   ---------------- ----------------------- 0.8/1.9 MB 68.5 kB/s eta 0:00:17\n",
      "   ---------------- ----------------------- 0.8/1.9 MB 68.5 kB/s eta 0:00:17\n",
      "   ---------------- ----------------------- 0.8/1.9 MB 68.5 kB/s eta 0:00:17\n",
      "   ---------------- ----------------------- 0.8/1.9 MB 68.5 kB/s eta 0:00:17\n",
      "   ---------------- ----------------------- 0.8/1.9 MB 68.5 kB/s eta 0:00:17\n",
      "   --------------------- ------------------ 1.0/1.9 MB 63.2 kB/s eta 0:00:15\n",
      "   --------------------- ------------------ 1.0/1.9 MB 63.2 kB/s eta 0:00:15\n",
      "   --------------------- ------------------ 1.0/1.9 MB 63.2 kB/s eta 0:00:15\n",
      "   --------------------- ------------------ 1.0/1.9 MB 63.2 kB/s eta 0:00:15\n",
      "   --------------------- ------------------ 1.0/1.9 MB 63.2 kB/s eta 0:00:15\n",
      "   --------------------- ------------------ 1.0/1.9 MB 63.2 kB/s eta 0:00:15\n",
      "   --------------------- ------------------ 1.0/1.9 MB 63.2 kB/s eta 0:00:15\n",
      "   --------------------- ------------------ 1.0/1.9 MB 63.2 kB/s eta 0:00:15\n",
      "   --------------------- ------------------ 1.0/1.9 MB 63.2 kB/s eta 0:00:15\n",
      "   --------------------- ------------------ 1.0/1.9 MB 63.2 kB/s eta 0:00:15\n",
      "   --------------------- ------------------ 1.0/1.9 MB 63.2 kB/s eta 0:00:15\n",
      "   --------------------- ------------------ 1.0/1.9 MB 63.2 kB/s eta 0:00:15\n",
      "   --------------------- ------------------ 1.0/1.9 MB 63.2 kB/s eta 0:00:15\n",
      "   --------------------- ------------------ 1.0/1.9 MB 63.2 kB/s eta 0:00:15\n",
      "   --------------------- ------------------ 1.0/1.9 MB 63.2 kB/s eta 0:00:15\n",
      "   --------------------- ------------------ 1.0/1.9 MB 63.2 kB/s eta 0:00:15\n",
      "   --------------------- ------------------ 1.0/1.9 MB 63.2 kB/s eta 0:00:15\n",
      "   --------------------- ------------------ 1.0/1.9 MB 63.2 kB/s eta 0:00:15\n",
      "   --------------------- ------------------ 1.0/1.9 MB 63.2 kB/s eta 0:00:15\n",
      "   --------------------- ------------------ 1.0/1.9 MB 63.2 kB/s eta 0:00:15\n",
      "   --------------------- ------------------ 1.0/1.9 MB 63.2 kB/s eta 0:00:15\n",
      "   -------------------------- ------------- 1.3/1.9 MB 61.5 kB/s eta 0:00:11\n",
      "   -------------------------- ------------- 1.3/1.9 MB 61.5 kB/s eta 0:00:11\n",
      "   -------------------------- ------------- 1.3/1.9 MB 61.5 kB/s eta 0:00:11\n",
      "   -------------------------- ------------- 1.3/1.9 MB 61.5 kB/s eta 0:00:11\n",
      "   -------------------------- ------------- 1.3/1.9 MB 61.5 kB/s eta 0:00:11\n",
      "   -------------------------- ------------- 1.3/1.9 MB 61.5 kB/s eta 0:00:11\n",
      "   -------------------------- ------------- 1.3/1.9 MB 61.5 kB/s eta 0:00:11\n",
      "   -------------------------- ------------- 1.3/1.9 MB 61.5 kB/s eta 0:00:11\n",
      "   -------------------------- ------------- 1.3/1.9 MB 61.5 kB/s eta 0:00:11\n",
      "   -------------------------- ------------- 1.3/1.9 MB 61.5 kB/s eta 0:00:11\n",
      "   -------------------------- ------------- 1.3/1.9 MB 61.5 kB/s eta 0:00:11\n",
      "   -------------------------- ------------- 1.3/1.9 MB 61.5 kB/s eta 0:00:11\n",
      "   -------------------------- ------------- 1.3/1.9 MB 61.5 kB/s eta 0:00:11\n",
      "   -------------------------- ------------- 1.3/1.9 MB 61.5 kB/s eta 0:00:11\n",
      "   -------------------------- ------------- 1.3/1.9 MB 61.5 kB/s eta 0:00:11\n",
      "   -------------------------- ------------- 1.3/1.9 MB 61.5 kB/s eta 0:00:11\n",
      "   -------------------------- ------------- 1.3/1.9 MB 61.5 kB/s eta 0:00:11\n",
      "   -------------------------- ------------- 1.3/1.9 MB 61.5 kB/s eta 0:00:11\n",
      "   -------------------------- ------------- 1.3/1.9 MB 61.5 kB/s eta 0:00:11\n",
      "   -------------------------- ------------- 1.3/1.9 MB 61.5 kB/s eta 0:00:11\n",
      "   -------------------------- ------------- 1.3/1.9 MB 61.5 kB/s eta 0:00:11\n",
      "   -------------------------- ------------- 1.3/1.9 MB 61.5 kB/s eta 0:00:11\n",
      "   -------------------------- ------------- 1.3/1.9 MB 61.5 kB/s eta 0:00:11\n",
      "   -------------------------- ------------- 1.3/1.9 MB 61.5 kB/s eta 0:00:11\n",
      "   -------------------------------- ------- 1.6/1.9 MB 59.0 kB/s eta 0:00:07\n",
      "   -------------------------------- ------- 1.6/1.9 MB 59.0 kB/s eta 0:00:07\n",
      "   -------------------------------- ------- 1.6/1.9 MB 59.0 kB/s eta 0:00:07\n",
      "   -------------------------------- ------- 1.6/1.9 MB 59.0 kB/s eta 0:00:07\n",
      "   -------------------------------- ------- 1.6/1.9 MB 59.0 kB/s eta 0:00:07\n",
      "   -------------------------------- ------- 1.6/1.9 MB 59.0 kB/s eta 0:00:07\n",
      "   -------------------------------- ------- 1.6/1.9 MB 59.0 kB/s eta 0:00:07\n",
      "   -------------------------------- ------- 1.6/1.9 MB 59.0 kB/s eta 0:00:07\n",
      "   -------------------------------- ------- 1.6/1.9 MB 59.0 kB/s eta 0:00:07\n",
      "   -------------------------------- ------- 1.6/1.9 MB 59.0 kB/s eta 0:00:07\n",
      "   -------------------------------- ------- 1.6/1.9 MB 59.0 kB/s eta 0:00:07\n",
      "   -------------------------------- ------- 1.6/1.9 MB 59.0 kB/s eta 0:00:07\n",
      "   -------------------------------- ------- 1.6/1.9 MB 59.0 kB/s eta 0:00:07\n",
      "   -------------------------------- ------- 1.6/1.9 MB 59.0 kB/s eta 0:00:07\n",
      "   -------------------------------- ------- 1.6/1.9 MB 59.0 kB/s eta 0:00:07\n",
      "   -------------------------------- ------- 1.6/1.9 MB 59.0 kB/s eta 0:00:07\n",
      "   -------------------------------- ------- 1.6/1.9 MB 59.0 kB/s eta 0:00:07\n",
      "   -------------------------------- ------- 1.6/1.9 MB 59.0 kB/s eta 0:00:07\n",
      "   -------------------------------- ------- 1.6/1.9 MB 59.0 kB/s eta 0:00:07\n",
      "   -------------------------------- ------- 1.6/1.9 MB 59.0 kB/s eta 0:00:07\n",
      "   -------------------------------- ------- 1.6/1.9 MB 59.0 kB/s eta 0:00:07\n",
      "   -------------------------------- ------- 1.6/1.9 MB 59.0 kB/s eta 0:00:07\n",
      "   -------------------------------- ------- 1.6/1.9 MB 59.0 kB/s eta 0:00:07\n",
      "   -------------------------------- ------- 1.6/1.9 MB 59.0 kB/s eta 0:00:07\n",
      "   -------------------------------- ------- 1.6/1.9 MB 59.0 kB/s eta 0:00:07\n",
      "   -------------------------------- ------- 1.6/1.9 MB 59.0 kB/s eta 0:00:07\n",
      "   -------------------------------- ------- 1.6/1.9 MB 59.0 kB/s eta 0:00:07\n",
      "   -------------------------------- ------- 1.6/1.9 MB 59.0 kB/s eta 0:00:07\n",
      "   -------------------------------- ------- 1.6/1.9 MB 59.0 kB/s eta 0:00:07\n",
      "   -------------------------------- ------- 1.6/1.9 MB 59.0 kB/s eta 0:00:07\n",
      "   -------------------------------- ------- 1.6/1.9 MB 59.0 kB/s eta 0:00:07\n",
      "   -------------------------------- ------- 1.6/1.9 MB 59.0 kB/s eta 0:00:07\n",
      "   -------------------------------- ------- 1.6/1.9 MB 59.0 kB/s eta 0:00:07\n",
      "   -------------------------------- ------- 1.6/1.9 MB 59.0 kB/s eta 0:00:07\n",
      "   -------------------------------- ------- 1.6/1.9 MB 59.0 kB/s eta 0:00:07\n",
      "   -------------------------------- ------- 1.6/1.9 MB 59.0 kB/s eta 0:00:07\n",
      "   ------------------------------------- -- 1.8/1.9 MB 52.5 kB/s eta 0:00:03\n",
      "   ------------------------------------- -- 1.8/1.9 MB 52.5 kB/s eta 0:00:03\n",
      "   ------------------------------------- -- 1.8/1.9 MB 52.5 kB/s eta 0:00:03\n",
      "   ------------------------------------- -- 1.8/1.9 MB 52.5 kB/s eta 0:00:03\n",
      "   ------------------------------------- -- 1.8/1.9 MB 52.5 kB/s eta 0:00:03\n",
      "   ------------------------------------- -- 1.8/1.9 MB 52.5 kB/s eta 0:00:03\n",
      "   ------------------------------------- -- 1.8/1.9 MB 52.5 kB/s eta 0:00:03\n",
      "   ------------------------------------- -- 1.8/1.9 MB 52.5 kB/s eta 0:00:03\n",
      "   ------------------------------------- -- 1.8/1.9 MB 52.5 kB/s eta 0:00:03\n",
      "   ---------------------------------------- 1.9/1.9 MB 51.2 kB/s eta 0:00:00\n",
      "Building wheels for collected packages: svglib\n",
      "  Building wheel for svglib (setup.py): started\n",
      "  Building wheel for svglib (setup.py): finished with status 'done'\n",
      "  Created wheel for svglib: filename=svglib-1.5.1-py3-none-any.whl size=30974 sha256=47bd6079a31f8e09504c0781f922225bfa85f3f697beb7941e1adf005d182d4e\n",
      "  Stored in directory: c:\\users\\bhargavi\\appdata\\local\\pip\\cache\\wheels\\9c\\a3\\80\\b15b7e7a70fc699803bfe258ec8eb09db5ad15e1b0871871c5\n",
      "Successfully built svglib\n",
      "Installing collected packages: reportlab, cssselect2, svglib\n",
      "Successfully installed cssselect2-0.7.0 reportlab-4.2.5 svglib-1.5.1\n"
     ]
    }
   ],
   "source": [
    "!pip install svglib"
   ]
  },
  {
   "cell_type": "code",
   "execution_count": 11,
   "id": "ef183927-ed06-4f03-9ddb-e86aa6efb302",
   "metadata": {},
   "outputs": [
    {
     "name": "stdout",
     "output_type": "stream",
     "text": [
      "Collecting svgling\n",
      "  Downloading svgling-0.5.0-py3-none-any.whl.metadata (7.4 kB)\n",
      "Collecting svgwrite (from svgling)\n",
      "  Downloading svgwrite-1.4.3-py3-none-any.whl.metadata (8.8 kB)\n",
      "Downloading svgling-0.5.0-py3-none-any.whl (31 kB)\n",
      "Downloading svgwrite-1.4.3-py3-none-any.whl (67 kB)\n",
      "Installing collected packages: svgwrite, svgling\n",
      "Successfully installed svgling-0.5.0 svgwrite-1.4.3\n"
     ]
    }
   ],
   "source": [
    "!pip install svgling"
   ]
  },
  {
   "cell_type": "code",
   "execution_count": null,
   "id": "362377d6-b45e-49bd-a4fa-d59f130997a5",
   "metadata": {},
   "outputs": [],
   "source": [
    "import nltk\n",
    "from nltk import ne_chunk\n",
    "from nltk import word_tokenize\n",
    "ne_chunk(nltk.pos_tag(word_tokenize(sent)),binary=False)\n"
   ]
  },
  {
   "cell_type": "code",
   "execution_count": null,
   "id": "3fc701df-92a7-42f9-8fdb-898f67b54fbc",
   "metadata": {},
   "outputs": [],
   "source": [
    "- VBG ->verb"
   ]
  },
  {
   "cell_type": "code",
   "execution_count": 15,
   "id": "f7ee0425-29b8-4639-824d-779362639332",
   "metadata": {},
   "outputs": [
    {
     "name": "stdout",
     "output_type": "stream",
     "text": [
      "Apple 0 5 ORG\n",
      "10000 42 47 MONEY\n",
      "New york 51 59 GPE\n"
     ]
    }
   ],
   "source": [
    "import spacy\n",
    "nlp=spacy.load('en_core_web_sm')\n",
    "doc=nlp(u'Apple is ready to launch new phone worth $10000 in New york time square')\n",
    "for ent in doc.ents:\n",
    "    print(ent.text,ent.start_char,ent.end_char,ent.label_)"
   ]
  },
  {
   "cell_type": "code",
   "execution_count": null,
   "id": "463b761a-35ec-45e9-bb9a-d6a6a7010322",
   "metadata": {},
   "outputs": [],
   "source": [
    "!pip install spacy"
   ]
  },
  {
   "cell_type": "code",
   "execution_count": null,
   "id": "a118cf29-d88f-4f9a-ade2-c0510f2cd642",
   "metadata": {},
   "outputs": [],
   "source": [
    "!python -m spacy download en_core_web_sm"
   ]
  },
  {
   "cell_type": "code",
   "execution_count": 17,
   "id": "6bd530c2-07bf-46ce-a83a-4a25360f4d2e",
   "metadata": {},
   "outputs": [],
   "source": [
    "import spacy\n",
    "nlp=spacy.load('en_core_web_sm')"
   ]
  },
  {
   "cell_type": "code",
   "execution_count": null,
   "id": "0f34bfa3-2201-4d1d-be35-c525adc51377",
   "metadata": {},
   "outputs": [],
   "source": [
    "text=\"\"\"\n",
    "Elon Musk, the CEO of SpaceX and Tesla,announced that SpaceX's Starship"
   ]
  },
  {
   "cell_type": "code",
   "execution_count": 21,
   "id": "2bb0fe77-9b4b-4887-8d51-cf89563723e3",
   "metadata": {},
   "outputs": [],
   "source": [
    "text = \"Overview Effect, a cognitive shift in awareness reported by some astronauts during spaceflight, often described as a profound feeling of awe, wonder, and interconnectedness upon seeing the Earth from space.\" "
   ]
  },
  {
   "cell_type": "code",
   "execution_count": 23,
   "id": "2538bb12-9445-4392-aa27-99f9d401ffc5",
   "metadata": {},
   "outputs": [
    {
     "name": "stdout",
     "output_type": "stream",
     "text": [
      "Entity: Overview Effect,Label: ORG\n",
      "Entity: Earth,Label: LOC\n"
     ]
    }
   ],
   "source": [
    "doc=nlp(text)\n",
    "for ent in doc.ents:\n",
    "    print(f\"Entity: {ent.text},Label: {ent.label_}\")"
   ]
  },
  {
   "cell_type": "code",
   "execution_count": null,
   "id": "e0a05edf-f166-47e5-872b-bf670ca2495c",
   "metadata": {},
   "outputs": [],
   "source": []
  }
 ],
 "metadata": {
  "kernelspec": {
   "display_name": "Python [conda env:base] *",
   "language": "python",
   "name": "conda-base-py"
  },
  "language_info": {
   "codemirror_mode": {
    "name": "ipython",
    "version": 3
   },
   "file_extension": ".py",
   "mimetype": "text/x-python",
   "name": "python",
   "nbconvert_exporter": "python",
   "pygments_lexer": "ipython3",
   "version": "3.12.7"
  }
 },
 "nbformat": 4,
 "nbformat_minor": 5
}
